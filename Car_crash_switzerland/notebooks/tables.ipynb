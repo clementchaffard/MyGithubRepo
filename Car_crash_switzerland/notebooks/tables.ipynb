{
 "cells": [
  {
   "cell_type": "code",
   "execution_count": 1,
   "metadata": {},
   "outputs": [],
   "source": [
    "import pandas as pd\n",
    "import numpy as np\n",
    "pd.options.mode.chained_assignment = None"
   ]
  },
  {
   "cell_type": "code",
   "execution_count": 2,
   "metadata": {},
   "outputs": [],
   "source": [
    "folder = 'data_cleaned/'\n",
    "\n",
    "collisions = pd.read_csv(folder+\"collisions_cleaned.csv\", dtype={'case_id': str}, low_memory=False)\n",
    "parties = pd.read_csv(folder+\"parties_cleaned.csv\", dtype={'case_id': str}, low_memory=False)\n",
    "victims = pd.read_csv(folder+\"victims_cleaned.csv\", dtype={'case_id': str}, low_memory=False)"
   ]
  },
  {
   "cell_type": "code",
   "execution_count": 3,
   "metadata": {},
   "outputs": [],
   "source": [
    "tables_folder = 'tables/'"
   ]
  },
  {
   "cell_type": "markdown",
   "metadata": {},
   "source": [
    "## COLLISION ENTITY"
   ]
  },
  {
   "cell_type": "code",
   "execution_count": 4,
   "metadata": {},
   "outputs": [],
   "source": [
    "collisions.process_date = pd.to_datetime(collisions.process_date).dt.date"
   ]
  },
  {
   "cell_type": "code",
   "execution_count": 5,
   "metadata": {},
   "outputs": [],
   "source": [
    "# create column datetime by merging collision_date and collision_time\n",
    "collisions['datetime'] = pd.to_datetime(collisions.collision_date + ' ' + collisions.collision_time)\n",
    "collisions.loc[collisions['datetime'].isnull(), \"datetime\"] = pd.to_datetime(collisions[collisions.collision_time.isnull()][\"collision_date\"])"
   ]
  },
  {
   "cell_type": "code",
   "execution_count": 6,
   "metadata": {},
   "outputs": [
    {
     "name": "stdout",
     "output_type": "stream",
     "text": [
      "<class 'pandas.core.frame.DataFrame'>\n",
      "RangeIndex: 3678058 entries, 0 to 3678057\n",
      "Data columns (total 9 columns):\n",
      " #   Column                    Dtype         \n",
      "---  ------                    -----         \n",
      " 0   case_id                   object        \n",
      " 1   datetime                  datetime64[ns]\n",
      " 2   officer_id                object        \n",
      " 3   type_of_collision         object        \n",
      " 4   process_date              object        \n",
      " 5   primary_collision_factor  object        \n",
      " 6   collision_severity        object        \n",
      " 7   tow_away                  object        \n",
      " 8   hit_and_run               object        \n",
      "dtypes: datetime64[ns](1), object(8)\n",
      "memory usage: 252.6+ MB\n"
     ]
    }
   ],
   "source": [
    "cols_from_collision = [\"case_id\", \"datetime\", \"officer_id\", \"type_of_collision\", \"process_date\",\n",
    "        \"primary_collision_factor\", \"collision_severity\", \"tow_away\", \"hit_and_run\"]\n",
    "collision_entity = collisions[cols_from_collision]\n",
    "collision_entity.info()"
   ]
  },
  {
   "cell_type": "code",
   "execution_count": 7,
   "metadata": {},
   "outputs": [],
   "source": [
    "# add column school_bus_related from parties\n",
    "bus_related_ids = parties[parties['school_bus_related']==\"T\"].case_id.unique()\n",
    "collision_entity['school_bus_related'] = \"F\"\n",
    "collision_entity.loc[collision_entity['case_id'].isin(bus_related_ids.tolist()), \"school_bus_related\"] = \"T\""
   ]
  },
  {
   "cell_type": "code",
   "execution_count": 8,
   "metadata": {},
   "outputs": [
    {
     "data": {
      "text/html": [
       "<div>\n",
       "<style scoped>\n",
       "    .dataframe tbody tr th:only-of-type {\n",
       "        vertical-align: middle;\n",
       "    }\n",
       "\n",
       "    .dataframe tbody tr th {\n",
       "        vertical-align: top;\n",
       "    }\n",
       "\n",
       "    .dataframe thead th {\n",
       "        text-align: right;\n",
       "    }\n",
       "</style>\n",
       "<table border=\"1\" class=\"dataframe\">\n",
       "  <thead>\n",
       "    <tr style=\"text-align: right;\">\n",
       "      <th></th>\n",
       "      <th>case_id</th>\n",
       "      <th>datetime</th>\n",
       "      <th>officer_id</th>\n",
       "      <th>type_of_collision</th>\n",
       "      <th>process_date</th>\n",
       "      <th>primary_collision_factor</th>\n",
       "      <th>collision_severity</th>\n",
       "      <th>tow_away</th>\n",
       "      <th>hit_and_run</th>\n",
       "      <th>school_bus_related</th>\n",
       "    </tr>\n",
       "  </thead>\n",
       "  <tbody>\n",
       "    <tr>\n",
       "      <th>0</th>\n",
       "      <td>0000001</td>\n",
       "      <td>2002-01-18 15:30:00</td>\n",
       "      <td>16418</td>\n",
       "      <td>rear end</td>\n",
       "      <td>2002-06-14</td>\n",
       "      <td>vehicle code violation</td>\n",
       "      <td>property damage only</td>\n",
       "      <td>T</td>\n",
       "      <td>not hit and run</td>\n",
       "      <td>F</td>\n",
       "    </tr>\n",
       "    <tr>\n",
       "      <th>1</th>\n",
       "      <td>0000002</td>\n",
       "      <td>2002-02-13 19:30:00</td>\n",
       "      <td>14360</td>\n",
       "      <td>hit object</td>\n",
       "      <td>2002-03-29</td>\n",
       "      <td>vehicle code violation</td>\n",
       "      <td>property damage only</td>\n",
       "      <td>F</td>\n",
       "      <td>misdemeanor</td>\n",
       "      <td>F</td>\n",
       "    </tr>\n",
       "    <tr>\n",
       "      <th>2</th>\n",
       "      <td>0000003</td>\n",
       "      <td>2002-02-11 15:30:00</td>\n",
       "      <td>16117</td>\n",
       "      <td>hit object</td>\n",
       "      <td>2003-07-15</td>\n",
       "      <td>vehicle code violation</td>\n",
       "      <td>property damage only</td>\n",
       "      <td>F</td>\n",
       "      <td>misdemeanor</td>\n",
       "      <td>F</td>\n",
       "    </tr>\n",
       "    <tr>\n",
       "      <th>3</th>\n",
       "      <td>0000004</td>\n",
       "      <td>2002-02-12 07:45:00</td>\n",
       "      <td>6078</td>\n",
       "      <td>sideswipe</td>\n",
       "      <td>2002-05-22</td>\n",
       "      <td>vehicle code violation</td>\n",
       "      <td>property damage only</td>\n",
       "      <td>F</td>\n",
       "      <td>misdemeanor</td>\n",
       "      <td>F</td>\n",
       "    </tr>\n",
       "    <tr>\n",
       "      <th>4</th>\n",
       "      <td>0000005</td>\n",
       "      <td>2002-02-14 11:35:00</td>\n",
       "      <td>13851</td>\n",
       "      <td>overturned</td>\n",
       "      <td>2003-07-28</td>\n",
       "      <td>vehicle code violation</td>\n",
       "      <td>severe injury</td>\n",
       "      <td>T</td>\n",
       "      <td>not hit and run</td>\n",
       "      <td>F</td>\n",
       "    </tr>\n",
       "  </tbody>\n",
       "</table>\n",
       "</div>"
      ],
      "text/plain": [
       "   case_id            datetime officer_id type_of_collision process_date  \\\n",
       "0  0000001 2002-01-18 15:30:00      16418          rear end   2002-06-14   \n",
       "1  0000002 2002-02-13 19:30:00      14360        hit object   2002-03-29   \n",
       "2  0000003 2002-02-11 15:30:00      16117        hit object   2003-07-15   \n",
       "3  0000004 2002-02-12 07:45:00       6078         sideswipe   2002-05-22   \n",
       "4  0000005 2002-02-14 11:35:00      13851        overturned   2003-07-28   \n",
       "\n",
       "  primary_collision_factor    collision_severity tow_away      hit_and_run  \\\n",
       "0   vehicle code violation  property damage only        T  not hit and run   \n",
       "1   vehicle code violation  property damage only        F      misdemeanor   \n",
       "2   vehicle code violation  property damage only        F      misdemeanor   \n",
       "3   vehicle code violation  property damage only        F      misdemeanor   \n",
       "4   vehicle code violation         severe injury        T  not hit and run   \n",
       "\n",
       "  school_bus_related  \n",
       "0                  F  \n",
       "1                  F  \n",
       "2                  F  \n",
       "3                  F  \n",
       "4                  F  "
      ]
     },
     "execution_count": 8,
     "metadata": {},
     "output_type": "execute_result"
    }
   ],
   "source": [
    "collision_entity.head()"
   ]
  },
  {
   "cell_type": "code",
   "execution_count": 9,
   "metadata": {},
   "outputs": [
    {
     "data": {
      "text/plain": [
       "0"
      ]
     },
     "execution_count": 9,
     "metadata": {},
     "output_type": "execute_result"
    }
   ],
   "source": [
    "collision_entity.datetime.isnull().sum()"
   ]
  },
  {
   "cell_type": "code",
   "execution_count": 10,
   "metadata": {},
   "outputs": [],
   "source": [
    "def save_df(df, name):\n",
    "    df.to_csv(tables_folder + name, index=False)"
   ]
  },
  {
   "cell_type": "markdown",
   "metadata": {},
   "source": [
    "## VIOLATION ENTITY"
   ]
  },
  {
   "cell_type": "code",
   "execution_count": 11,
   "metadata": {},
   "outputs": [],
   "source": [
    "def create_entity(df, cols, id_name):\n",
    "    \n",
    "    df_entity = df[cols].drop_duplicates().reset_index(drop=True).reset_index().rename(columns={'index': id_name})\n",
    "    df_entity[id_name] = df_entity[id_name].apply(lambda x: x+1)\n",
    "    \n",
    "    return df_entity"
   ]
  },
  {
   "cell_type": "code",
   "execution_count": 12,
   "metadata": {},
   "outputs": [],
   "source": [
    "cols_from_collision = [\"pcf_violation\", \"pcf_violation_category\", \"pcf_violation_subsection\"]\n",
    "\n",
    "violation_entity = create_entity(collisions, cols_from_collision, 'vid')"
   ]
  },
  {
   "cell_type": "code",
   "execution_count": 13,
   "metadata": {},
   "outputs": [
    {
     "data": {
      "text/html": [
       "<div>\n",
       "<style scoped>\n",
       "    .dataframe tbody tr th:only-of-type {\n",
       "        vertical-align: middle;\n",
       "    }\n",
       "\n",
       "    .dataframe tbody tr th {\n",
       "        vertical-align: top;\n",
       "    }\n",
       "\n",
       "    .dataframe thead th {\n",
       "        text-align: right;\n",
       "    }\n",
       "</style>\n",
       "<table border=\"1\" class=\"dataframe\">\n",
       "  <thead>\n",
       "    <tr style=\"text-align: right;\">\n",
       "      <th></th>\n",
       "      <th>vid</th>\n",
       "      <th>pcf_violation</th>\n",
       "      <th>pcf_violation_category</th>\n",
       "      <th>pcf_violation_subsection</th>\n",
       "    </tr>\n",
       "  </thead>\n",
       "  <tbody>\n",
       "    <tr>\n",
       "      <th>0</th>\n",
       "      <td>1</td>\n",
       "      <td>22107.0</td>\n",
       "      <td>improper turning</td>\n",
       "      <td>NaN</td>\n",
       "    </tr>\n",
       "    <tr>\n",
       "      <th>1</th>\n",
       "      <td>2</td>\n",
       "      <td>22515.0</td>\n",
       "      <td>hazardous parking</td>\n",
       "      <td>A</td>\n",
       "    </tr>\n",
       "    <tr>\n",
       "      <th>2</th>\n",
       "      <td>3</td>\n",
       "      <td>23114.0</td>\n",
       "      <td>other hazardous violation</td>\n",
       "      <td>A</td>\n",
       "    </tr>\n",
       "    <tr>\n",
       "      <th>3</th>\n",
       "      <td>4</td>\n",
       "      <td>22450.0</td>\n",
       "      <td>traffic signals and signs</td>\n",
       "      <td>A</td>\n",
       "    </tr>\n",
       "    <tr>\n",
       "      <th>4</th>\n",
       "      <td>5</td>\n",
       "      <td>22350.0</td>\n",
       "      <td>speeding</td>\n",
       "      <td>NaN</td>\n",
       "    </tr>\n",
       "  </tbody>\n",
       "</table>\n",
       "</div>"
      ],
      "text/plain": [
       "   vid  pcf_violation     pcf_violation_category pcf_violation_subsection\n",
       "0    1        22107.0           improper turning                      NaN\n",
       "1    2        22515.0          hazardous parking                        A\n",
       "2    3        23114.0  other hazardous violation                        A\n",
       "3    4        22450.0  traffic signals and signs                        A\n",
       "4    5        22350.0                   speeding                      NaN"
      ]
     },
     "execution_count": 13,
     "metadata": {},
     "output_type": "execute_result"
    }
   ],
   "source": [
    "violation_entity.head()"
   ]
  },
  {
   "cell_type": "code",
   "execution_count": 14,
   "metadata": {},
   "outputs": [],
   "source": [
    "# Save violation_entity\n",
    "save_df(violation_entity, \"violation_entity.csv\")"
   ]
  },
  {
   "cell_type": "markdown",
   "metadata": {},
   "source": [
    "## VIOLATED RELATIONSHIP (ADD VID TO COLLISIONS)"
   ]
  },
  {
   "cell_type": "code",
   "execution_count": 15,
   "metadata": {},
   "outputs": [
    {
     "data": {
      "text/html": [
       "<div>\n",
       "<style scoped>\n",
       "    .dataframe tbody tr th:only-of-type {\n",
       "        vertical-align: middle;\n",
       "    }\n",
       "\n",
       "    .dataframe tbody tr th {\n",
       "        vertical-align: top;\n",
       "    }\n",
       "\n",
       "    .dataframe thead th {\n",
       "        text-align: right;\n",
       "    }\n",
       "</style>\n",
       "<table border=\"1\" class=\"dataframe\">\n",
       "  <thead>\n",
       "    <tr style=\"text-align: right;\">\n",
       "      <th></th>\n",
       "      <th>case_id</th>\n",
       "      <th>datetime</th>\n",
       "      <th>officer_id</th>\n",
       "      <th>type_of_collision</th>\n",
       "      <th>process_date</th>\n",
       "      <th>primary_collision_factor</th>\n",
       "      <th>collision_severity</th>\n",
       "      <th>tow_away</th>\n",
       "      <th>hit_and_run</th>\n",
       "      <th>school_bus_related</th>\n",
       "      <th>vid</th>\n",
       "    </tr>\n",
       "  </thead>\n",
       "  <tbody>\n",
       "    <tr>\n",
       "      <th>0</th>\n",
       "      <td>0000001</td>\n",
       "      <td>2002-01-18 15:30:00</td>\n",
       "      <td>16418</td>\n",
       "      <td>rear end</td>\n",
       "      <td>2002-06-14</td>\n",
       "      <td>vehicle code violation</td>\n",
       "      <td>property damage only</td>\n",
       "      <td>T</td>\n",
       "      <td>not hit and run</td>\n",
       "      <td>F</td>\n",
       "      <td>1</td>\n",
       "    </tr>\n",
       "    <tr>\n",
       "      <th>1</th>\n",
       "      <td>0000002</td>\n",
       "      <td>2002-02-13 19:30:00</td>\n",
       "      <td>14360</td>\n",
       "      <td>hit object</td>\n",
       "      <td>2002-03-29</td>\n",
       "      <td>vehicle code violation</td>\n",
       "      <td>property damage only</td>\n",
       "      <td>F</td>\n",
       "      <td>misdemeanor</td>\n",
       "      <td>F</td>\n",
       "      <td>2</td>\n",
       "    </tr>\n",
       "    <tr>\n",
       "      <th>2</th>\n",
       "      <td>0000003</td>\n",
       "      <td>2002-02-11 15:30:00</td>\n",
       "      <td>16117</td>\n",
       "      <td>hit object</td>\n",
       "      <td>2003-07-15</td>\n",
       "      <td>vehicle code violation</td>\n",
       "      <td>property damage only</td>\n",
       "      <td>F</td>\n",
       "      <td>misdemeanor</td>\n",
       "      <td>F</td>\n",
       "      <td>3</td>\n",
       "    </tr>\n",
       "    <tr>\n",
       "      <th>3</th>\n",
       "      <td>0000004</td>\n",
       "      <td>2002-02-12 07:45:00</td>\n",
       "      <td>6078</td>\n",
       "      <td>sideswipe</td>\n",
       "      <td>2002-05-22</td>\n",
       "      <td>vehicle code violation</td>\n",
       "      <td>property damage only</td>\n",
       "      <td>F</td>\n",
       "      <td>misdemeanor</td>\n",
       "      <td>F</td>\n",
       "      <td>4</td>\n",
       "    </tr>\n",
       "    <tr>\n",
       "      <th>4</th>\n",
       "      <td>0000005</td>\n",
       "      <td>2002-02-14 11:35:00</td>\n",
       "      <td>13851</td>\n",
       "      <td>overturned</td>\n",
       "      <td>2003-07-28</td>\n",
       "      <td>vehicle code violation</td>\n",
       "      <td>severe injury</td>\n",
       "      <td>T</td>\n",
       "      <td>not hit and run</td>\n",
       "      <td>F</td>\n",
       "      <td>5</td>\n",
       "    </tr>\n",
       "  </tbody>\n",
       "</table>\n",
       "</div>"
      ],
      "text/plain": [
       "   case_id            datetime officer_id type_of_collision process_date  \\\n",
       "0  0000001 2002-01-18 15:30:00      16418          rear end   2002-06-14   \n",
       "1  0000002 2002-02-13 19:30:00      14360        hit object   2002-03-29   \n",
       "2  0000003 2002-02-11 15:30:00      16117        hit object   2003-07-15   \n",
       "3  0000004 2002-02-12 07:45:00       6078         sideswipe   2002-05-22   \n",
       "4  0000005 2002-02-14 11:35:00      13851        overturned   2003-07-28   \n",
       "\n",
       "  primary_collision_factor    collision_severity tow_away      hit_and_run  \\\n",
       "0   vehicle code violation  property damage only        T  not hit and run   \n",
       "1   vehicle code violation  property damage only        F      misdemeanor   \n",
       "2   vehicle code violation  property damage only        F      misdemeanor   \n",
       "3   vehicle code violation  property damage only        F      misdemeanor   \n",
       "4   vehicle code violation         severe injury        T  not hit and run   \n",
       "\n",
       "  school_bus_related  vid  \n",
       "0                  F    1  \n",
       "1                  F    2  \n",
       "2                  F    3  \n",
       "3                  F    4  \n",
       "4                  F    5  "
      ]
     },
     "execution_count": 15,
     "metadata": {},
     "output_type": "execute_result"
    }
   ],
   "source": [
    "map_caseid_to_vid = pd.merge(collisions[['case_id'] + cols_from_collision], violation_entity, how='inner', on=cols_from_collision )[['case_id', 'vid']]\n",
    "collision_entity = pd.merge(collision_entity, map_caseid_to_vid, how='inner', on=['case_id'])\n",
    "collision_entity.head()"
   ]
  },
  {
   "cell_type": "code",
   "execution_count": 16,
   "metadata": {},
   "outputs": [
    {
     "data": {
      "text/plain": [
       "True"
      ]
     },
     "execution_count": 16,
     "metadata": {},
     "output_type": "execute_result"
    }
   ],
   "source": [
    "collision_entity.shape[0] == collisions.shape[0]"
   ]
  },
  {
   "cell_type": "markdown",
   "metadata": {},
   "source": [
    "## LOCATION ENTITY"
   ]
  },
  {
   "cell_type": "code",
   "execution_count": 17,
   "metadata": {},
   "outputs": [],
   "source": [
    "cols_from_collision = ['jurisdiction', 'location_type', 'ramp_intersection', 'county_city_location', 'population']\n",
    "\n",
    "location_entity = create_entity(collisions, cols_from_collision, 'lid')"
   ]
  },
  {
   "cell_type": "code",
   "execution_count": 18,
   "metadata": {},
   "outputs": [
    {
     "data": {
      "text/html": [
       "<div>\n",
       "<style scoped>\n",
       "    .dataframe tbody tr th:only-of-type {\n",
       "        vertical-align: middle;\n",
       "    }\n",
       "\n",
       "    .dataframe tbody tr th {\n",
       "        vertical-align: top;\n",
       "    }\n",
       "\n",
       "    .dataframe thead th {\n",
       "        text-align: right;\n",
       "    }\n",
       "</style>\n",
       "<table border=\"1\" class=\"dataframe\">\n",
       "  <thead>\n",
       "    <tr style=\"text-align: right;\">\n",
       "      <th></th>\n",
       "      <th>lid</th>\n",
       "      <th>jurisdiction</th>\n",
       "      <th>location_type</th>\n",
       "      <th>ramp_intersection</th>\n",
       "      <th>county_city_location</th>\n",
       "      <th>population</th>\n",
       "    </tr>\n",
       "  </thead>\n",
       "  <tbody>\n",
       "    <tr>\n",
       "      <th>0</th>\n",
       "      <td>1</td>\n",
       "      <td>9575.0</td>\n",
       "      <td>NaN</td>\n",
       "      <td>NaN</td>\n",
       "      <td>1900</td>\n",
       "      <td>9.0</td>\n",
       "    </tr>\n",
       "    <tr>\n",
       "      <th>1</th>\n",
       "      <td>2</td>\n",
       "      <td>9420.0</td>\n",
       "      <td>NaN</td>\n",
       "      <td>NaN</td>\n",
       "      <td>1500</td>\n",
       "      <td>9.0</td>\n",
       "    </tr>\n",
       "    <tr>\n",
       "      <th>2</th>\n",
       "      <td>3</td>\n",
       "      <td>9420.0</td>\n",
       "      <td>highway</td>\n",
       "      <td>NaN</td>\n",
       "      <td>1502</td>\n",
       "      <td>6.0</td>\n",
       "    </tr>\n",
       "    <tr>\n",
       "      <th>3</th>\n",
       "      <td>4</td>\n",
       "      <td>9420.0</td>\n",
       "      <td>NaN</td>\n",
       "      <td>NaN</td>\n",
       "      <td>1502</td>\n",
       "      <td>6.0</td>\n",
       "    </tr>\n",
       "    <tr>\n",
       "      <th>4</th>\n",
       "      <td>5</td>\n",
       "      <td>9420.0</td>\n",
       "      <td>highway</td>\n",
       "      <td>NaN</td>\n",
       "      <td>1500</td>\n",
       "      <td>9.0</td>\n",
       "    </tr>\n",
       "  </tbody>\n",
       "</table>\n",
       "</div>"
      ],
      "text/plain": [
       "   lid  jurisdiction location_type ramp_intersection  county_city_location  \\\n",
       "0    1        9575.0           NaN               NaN                  1900   \n",
       "1    2        9420.0           NaN               NaN                  1500   \n",
       "2    3        9420.0       highway               NaN                  1502   \n",
       "3    4        9420.0           NaN               NaN                  1502   \n",
       "4    5        9420.0       highway               NaN                  1500   \n",
       "\n",
       "   population  \n",
       "0         9.0  \n",
       "1         9.0  \n",
       "2         6.0  \n",
       "3         6.0  \n",
       "4         9.0  "
      ]
     },
     "execution_count": 18,
     "metadata": {},
     "output_type": "execute_result"
    }
   ],
   "source": [
    "location_entity.head()"
   ]
  },
  {
   "cell_type": "code",
   "execution_count": 19,
   "metadata": {},
   "outputs": [],
   "source": [
    "# Save location_entity\n",
    "save_df(location_entity, \"location_entity.csv\")"
   ]
  },
  {
   "cell_type": "markdown",
   "metadata": {},
   "source": [
    "## LOCATED RELATIONSHIP (ADD LID TO COLLISIONS)"
   ]
  },
  {
   "cell_type": "code",
   "execution_count": 20,
   "metadata": {},
   "outputs": [
    {
     "data": {
      "text/html": [
       "<div>\n",
       "<style scoped>\n",
       "    .dataframe tbody tr th:only-of-type {\n",
       "        vertical-align: middle;\n",
       "    }\n",
       "\n",
       "    .dataframe tbody tr th {\n",
       "        vertical-align: top;\n",
       "    }\n",
       "\n",
       "    .dataframe thead th {\n",
       "        text-align: right;\n",
       "    }\n",
       "</style>\n",
       "<table border=\"1\" class=\"dataframe\">\n",
       "  <thead>\n",
       "    <tr style=\"text-align: right;\">\n",
       "      <th></th>\n",
       "      <th>case_id</th>\n",
       "      <th>datetime</th>\n",
       "      <th>officer_id</th>\n",
       "      <th>type_of_collision</th>\n",
       "      <th>process_date</th>\n",
       "      <th>primary_collision_factor</th>\n",
       "      <th>collision_severity</th>\n",
       "      <th>tow_away</th>\n",
       "      <th>hit_and_run</th>\n",
       "      <th>school_bus_related</th>\n",
       "      <th>vid</th>\n",
       "      <th>lid</th>\n",
       "    </tr>\n",
       "  </thead>\n",
       "  <tbody>\n",
       "    <tr>\n",
       "      <th>0</th>\n",
       "      <td>0000001</td>\n",
       "      <td>2002-01-18 15:30:00</td>\n",
       "      <td>16418</td>\n",
       "      <td>rear end</td>\n",
       "      <td>2002-06-14</td>\n",
       "      <td>vehicle code violation</td>\n",
       "      <td>property damage only</td>\n",
       "      <td>T</td>\n",
       "      <td>not hit and run</td>\n",
       "      <td>F</td>\n",
       "      <td>1</td>\n",
       "      <td>1</td>\n",
       "    </tr>\n",
       "    <tr>\n",
       "      <th>1</th>\n",
       "      <td>0000002</td>\n",
       "      <td>2002-02-13 19:30:00</td>\n",
       "      <td>14360</td>\n",
       "      <td>hit object</td>\n",
       "      <td>2002-03-29</td>\n",
       "      <td>vehicle code violation</td>\n",
       "      <td>property damage only</td>\n",
       "      <td>F</td>\n",
       "      <td>misdemeanor</td>\n",
       "      <td>F</td>\n",
       "      <td>2</td>\n",
       "      <td>2</td>\n",
       "    </tr>\n",
       "    <tr>\n",
       "      <th>2</th>\n",
       "      <td>0000003</td>\n",
       "      <td>2002-02-11 15:30:00</td>\n",
       "      <td>16117</td>\n",
       "      <td>hit object</td>\n",
       "      <td>2003-07-15</td>\n",
       "      <td>vehicle code violation</td>\n",
       "      <td>property damage only</td>\n",
       "      <td>F</td>\n",
       "      <td>misdemeanor</td>\n",
       "      <td>F</td>\n",
       "      <td>3</td>\n",
       "      <td>3</td>\n",
       "    </tr>\n",
       "    <tr>\n",
       "      <th>3</th>\n",
       "      <td>0000004</td>\n",
       "      <td>2002-02-12 07:45:00</td>\n",
       "      <td>6078</td>\n",
       "      <td>sideswipe</td>\n",
       "      <td>2002-05-22</td>\n",
       "      <td>vehicle code violation</td>\n",
       "      <td>property damage only</td>\n",
       "      <td>F</td>\n",
       "      <td>misdemeanor</td>\n",
       "      <td>F</td>\n",
       "      <td>4</td>\n",
       "      <td>2</td>\n",
       "    </tr>\n",
       "    <tr>\n",
       "      <th>4</th>\n",
       "      <td>0000005</td>\n",
       "      <td>2002-02-14 11:35:00</td>\n",
       "      <td>13851</td>\n",
       "      <td>overturned</td>\n",
       "      <td>2003-07-28</td>\n",
       "      <td>vehicle code violation</td>\n",
       "      <td>severe injury</td>\n",
       "      <td>T</td>\n",
       "      <td>not hit and run</td>\n",
       "      <td>F</td>\n",
       "      <td>5</td>\n",
       "      <td>2</td>\n",
       "    </tr>\n",
       "  </tbody>\n",
       "</table>\n",
       "</div>"
      ],
      "text/plain": [
       "   case_id            datetime officer_id type_of_collision process_date  \\\n",
       "0  0000001 2002-01-18 15:30:00      16418          rear end   2002-06-14   \n",
       "1  0000002 2002-02-13 19:30:00      14360        hit object   2002-03-29   \n",
       "2  0000003 2002-02-11 15:30:00      16117        hit object   2003-07-15   \n",
       "3  0000004 2002-02-12 07:45:00       6078         sideswipe   2002-05-22   \n",
       "4  0000005 2002-02-14 11:35:00      13851        overturned   2003-07-28   \n",
       "\n",
       "  primary_collision_factor    collision_severity tow_away      hit_and_run  \\\n",
       "0   vehicle code violation  property damage only        T  not hit and run   \n",
       "1   vehicle code violation  property damage only        F      misdemeanor   \n",
       "2   vehicle code violation  property damage only        F      misdemeanor   \n",
       "3   vehicle code violation  property damage only        F      misdemeanor   \n",
       "4   vehicle code violation         severe injury        T  not hit and run   \n",
       "\n",
       "  school_bus_related  vid  lid  \n",
       "0                  F    1    1  \n",
       "1                  F    2    2  \n",
       "2                  F    3    3  \n",
       "3                  F    4    2  \n",
       "4                  F    5    2  "
      ]
     },
     "execution_count": 20,
     "metadata": {},
     "output_type": "execute_result"
    }
   ],
   "source": [
    "map_caseid_to_lid = pd.merge(collisions[['case_id'] + cols_from_collision], location_entity, how='inner', on=cols_from_collision )[['case_id', 'lid']]\n",
    "collision_entity = pd.merge(collision_entity, map_caseid_to_lid, how='inner', on=['case_id'])\n",
    "collision_entity.head()"
   ]
  },
  {
   "cell_type": "code",
   "execution_count": 21,
   "metadata": {},
   "outputs": [
    {
     "data": {
      "text/plain": [
       "True"
      ]
     },
     "execution_count": 21,
     "metadata": {},
     "output_type": "execute_result"
    }
   ],
   "source": [
    "collision_entity.shape[0] == collisions.shape[0]"
   ]
  },
  {
   "cell_type": "markdown",
   "metadata": {},
   "source": [
    "## CONDITIONS ENTITY"
   ]
  },
  {
   "cell_type": "code",
   "execution_count": 22,
   "metadata": {},
   "outputs": [],
   "source": [
    "cols_from_collision = ['lighting', 'road_surface']\n",
    "\n",
    "conditions_entity = create_entity(collisions, cols_from_collision, 'cid')"
   ]
  },
  {
   "cell_type": "code",
   "execution_count": 23,
   "metadata": {},
   "outputs": [
    {
     "data": {
      "text/html": [
       "<div>\n",
       "<style scoped>\n",
       "    .dataframe tbody tr th:only-of-type {\n",
       "        vertical-align: middle;\n",
       "    }\n",
       "\n",
       "    .dataframe tbody tr th {\n",
       "        vertical-align: top;\n",
       "    }\n",
       "\n",
       "    .dataframe thead th {\n",
       "        text-align: right;\n",
       "    }\n",
       "</style>\n",
       "<table border=\"1\" class=\"dataframe\">\n",
       "  <thead>\n",
       "    <tr style=\"text-align: right;\">\n",
       "      <th></th>\n",
       "      <th>cid</th>\n",
       "      <th>lighting</th>\n",
       "      <th>road_surface</th>\n",
       "    </tr>\n",
       "  </thead>\n",
       "  <tbody>\n",
       "    <tr>\n",
       "      <th>0</th>\n",
       "      <td>1</td>\n",
       "      <td>daylight</td>\n",
       "      <td>dry</td>\n",
       "    </tr>\n",
       "    <tr>\n",
       "      <th>1</th>\n",
       "      <td>2</td>\n",
       "      <td>NaN</td>\n",
       "      <td>dry</td>\n",
       "    </tr>\n",
       "    <tr>\n",
       "      <th>2</th>\n",
       "      <td>3</td>\n",
       "      <td>dusk or dawn</td>\n",
       "      <td>dry</td>\n",
       "    </tr>\n",
       "    <tr>\n",
       "      <th>3</th>\n",
       "      <td>4</td>\n",
       "      <td>dark with street lights</td>\n",
       "      <td>dry</td>\n",
       "    </tr>\n",
       "    <tr>\n",
       "      <th>4</th>\n",
       "      <td>5</td>\n",
       "      <td>dark with no street lights</td>\n",
       "      <td>dry</td>\n",
       "    </tr>\n",
       "  </tbody>\n",
       "</table>\n",
       "</div>"
      ],
      "text/plain": [
       "   cid                    lighting road_surface\n",
       "0    1                    daylight          dry\n",
       "1    2                         NaN          dry\n",
       "2    3                dusk or dawn          dry\n",
       "3    4     dark with street lights          dry\n",
       "4    5  dark with no street lights          dry"
      ]
     },
     "execution_count": 23,
     "metadata": {},
     "output_type": "execute_result"
    }
   ],
   "source": [
    "conditions_entity.head()"
   ]
  },
  {
   "cell_type": "code",
   "execution_count": 24,
   "metadata": {},
   "outputs": [],
   "source": [
    "save_df(conditions_entity, \"conditions_entity.csv\")"
   ]
  },
  {
   "cell_type": "markdown",
   "metadata": {},
   "source": [
    "## CONDITIONS RELATIONSHIP (ADD CID TO COLLISIONS)"
   ]
  },
  {
   "cell_type": "code",
   "execution_count": 25,
   "metadata": {},
   "outputs": [
    {
     "data": {
      "text/html": [
       "<div>\n",
       "<style scoped>\n",
       "    .dataframe tbody tr th:only-of-type {\n",
       "        vertical-align: middle;\n",
       "    }\n",
       "\n",
       "    .dataframe tbody tr th {\n",
       "        vertical-align: top;\n",
       "    }\n",
       "\n",
       "    .dataframe thead th {\n",
       "        text-align: right;\n",
       "    }\n",
       "</style>\n",
       "<table border=\"1\" class=\"dataframe\">\n",
       "  <thead>\n",
       "    <tr style=\"text-align: right;\">\n",
       "      <th></th>\n",
       "      <th>case_id</th>\n",
       "      <th>datetime</th>\n",
       "      <th>officer_id</th>\n",
       "      <th>type_of_collision</th>\n",
       "      <th>process_date</th>\n",
       "      <th>primary_collision_factor</th>\n",
       "      <th>collision_severity</th>\n",
       "      <th>tow_away</th>\n",
       "      <th>hit_and_run</th>\n",
       "      <th>school_bus_related</th>\n",
       "      <th>vid</th>\n",
       "      <th>lid</th>\n",
       "      <th>cid</th>\n",
       "    </tr>\n",
       "  </thead>\n",
       "  <tbody>\n",
       "    <tr>\n",
       "      <th>0</th>\n",
       "      <td>0000001</td>\n",
       "      <td>2002-01-18 15:30:00</td>\n",
       "      <td>16418</td>\n",
       "      <td>rear end</td>\n",
       "      <td>2002-06-14</td>\n",
       "      <td>vehicle code violation</td>\n",
       "      <td>property damage only</td>\n",
       "      <td>T</td>\n",
       "      <td>not hit and run</td>\n",
       "      <td>F</td>\n",
       "      <td>1</td>\n",
       "      <td>1</td>\n",
       "      <td>1</td>\n",
       "    </tr>\n",
       "    <tr>\n",
       "      <th>1</th>\n",
       "      <td>0000002</td>\n",
       "      <td>2002-02-13 19:30:00</td>\n",
       "      <td>14360</td>\n",
       "      <td>hit object</td>\n",
       "      <td>2002-03-29</td>\n",
       "      <td>vehicle code violation</td>\n",
       "      <td>property damage only</td>\n",
       "      <td>F</td>\n",
       "      <td>misdemeanor</td>\n",
       "      <td>F</td>\n",
       "      <td>2</td>\n",
       "      <td>2</td>\n",
       "      <td>2</td>\n",
       "    </tr>\n",
       "    <tr>\n",
       "      <th>2</th>\n",
       "      <td>0000003</td>\n",
       "      <td>2002-02-11 15:30:00</td>\n",
       "      <td>16117</td>\n",
       "      <td>hit object</td>\n",
       "      <td>2003-07-15</td>\n",
       "      <td>vehicle code violation</td>\n",
       "      <td>property damage only</td>\n",
       "      <td>F</td>\n",
       "      <td>misdemeanor</td>\n",
       "      <td>F</td>\n",
       "      <td>3</td>\n",
       "      <td>3</td>\n",
       "      <td>1</td>\n",
       "    </tr>\n",
       "    <tr>\n",
       "      <th>3</th>\n",
       "      <td>0000004</td>\n",
       "      <td>2002-02-12 07:45:00</td>\n",
       "      <td>6078</td>\n",
       "      <td>sideswipe</td>\n",
       "      <td>2002-05-22</td>\n",
       "      <td>vehicle code violation</td>\n",
       "      <td>property damage only</td>\n",
       "      <td>F</td>\n",
       "      <td>misdemeanor</td>\n",
       "      <td>F</td>\n",
       "      <td>4</td>\n",
       "      <td>2</td>\n",
       "      <td>1</td>\n",
       "    </tr>\n",
       "    <tr>\n",
       "      <th>4</th>\n",
       "      <td>0000005</td>\n",
       "      <td>2002-02-14 11:35:00</td>\n",
       "      <td>13851</td>\n",
       "      <td>overturned</td>\n",
       "      <td>2003-07-28</td>\n",
       "      <td>vehicle code violation</td>\n",
       "      <td>severe injury</td>\n",
       "      <td>T</td>\n",
       "      <td>not hit and run</td>\n",
       "      <td>F</td>\n",
       "      <td>5</td>\n",
       "      <td>2</td>\n",
       "      <td>1</td>\n",
       "    </tr>\n",
       "  </tbody>\n",
       "</table>\n",
       "</div>"
      ],
      "text/plain": [
       "   case_id            datetime officer_id type_of_collision process_date  \\\n",
       "0  0000001 2002-01-18 15:30:00      16418          rear end   2002-06-14   \n",
       "1  0000002 2002-02-13 19:30:00      14360        hit object   2002-03-29   \n",
       "2  0000003 2002-02-11 15:30:00      16117        hit object   2003-07-15   \n",
       "3  0000004 2002-02-12 07:45:00       6078         sideswipe   2002-05-22   \n",
       "4  0000005 2002-02-14 11:35:00      13851        overturned   2003-07-28   \n",
       "\n",
       "  primary_collision_factor    collision_severity tow_away      hit_and_run  \\\n",
       "0   vehicle code violation  property damage only        T  not hit and run   \n",
       "1   vehicle code violation  property damage only        F      misdemeanor   \n",
       "2   vehicle code violation  property damage only        F      misdemeanor   \n",
       "3   vehicle code violation  property damage only        F      misdemeanor   \n",
       "4   vehicle code violation         severe injury        T  not hit and run   \n",
       "\n",
       "  school_bus_related  vid  lid  cid  \n",
       "0                  F    1    1    1  \n",
       "1                  F    2    2    2  \n",
       "2                  F    3    3    1  \n",
       "3                  F    4    2    1  \n",
       "4                  F    5    2    1  "
      ]
     },
     "execution_count": 25,
     "metadata": {},
     "output_type": "execute_result"
    }
   ],
   "source": [
    "map_caseid_to_cid = pd.merge(collisions[['case_id'] + cols_from_collision], conditions_entity, how='inner', on=cols_from_collision )[['case_id', 'cid']]\n",
    "collision_entity = pd.merge(collision_entity, map_caseid_to_cid, how='inner', on=['case_id'])\n",
    "collision_entity.head()"
   ]
  },
  {
   "cell_type": "code",
   "execution_count": 26,
   "metadata": {},
   "outputs": [
    {
     "data": {
      "text/plain": [
       "True"
      ]
     },
     "execution_count": 26,
     "metadata": {},
     "output_type": "execute_result"
    }
   ],
   "source": [
    "collision_entity.shape[0] == collisions.shape[0]"
   ]
  },
  {
   "cell_type": "code",
   "execution_count": 27,
   "metadata": {},
   "outputs": [],
   "source": [
    "# Save collision_entity\n",
    "save_df(collision_entity, \"collision_entity.csv\")"
   ]
  },
  {
   "cell_type": "markdown",
   "metadata": {},
   "source": [
    "## WEATHER ENTITY"
   ]
  },
  {
   "cell_type": "code",
   "execution_count": 28,
   "metadata": {},
   "outputs": [],
   "source": [
    "def normal_form(df, attribute, id_name):\n",
    "    df_normal = pd.concat([df[~df[attribute + '_1'].isna()][[id_name, attribute + '_1']]\\\n",
    "                           .rename(columns={attribute + '_1' : attribute}),\n",
    "                            df[~df[attribute + '_2'].isna()][[id_name, attribute + '_2']]\\\n",
    "                           .rename(columns={attribute + '_2' : attribute})])\n",
    "    return df_normal"
   ]
  },
  {
   "cell_type": "code",
   "execution_count": 29,
   "metadata": {},
   "outputs": [],
   "source": [
    "weather_entity = normal_form(collisions, \"weather\", \"case_id\")"
   ]
  },
  {
   "cell_type": "code",
   "execution_count": 30,
   "metadata": {},
   "outputs": [
    {
     "data": {
      "text/html": [
       "<div>\n",
       "<style scoped>\n",
       "    .dataframe tbody tr th:only-of-type {\n",
       "        vertical-align: middle;\n",
       "    }\n",
       "\n",
       "    .dataframe tbody tr th {\n",
       "        vertical-align: top;\n",
       "    }\n",
       "\n",
       "    .dataframe thead th {\n",
       "        text-align: right;\n",
       "    }\n",
       "</style>\n",
       "<table border=\"1\" class=\"dataframe\">\n",
       "  <thead>\n",
       "    <tr style=\"text-align: right;\">\n",
       "      <th></th>\n",
       "      <th>case_id</th>\n",
       "      <th>weather</th>\n",
       "    </tr>\n",
       "  </thead>\n",
       "  <tbody>\n",
       "    <tr>\n",
       "      <th>0</th>\n",
       "      <td>0000001</td>\n",
       "      <td>clear</td>\n",
       "    </tr>\n",
       "    <tr>\n",
       "      <th>1</th>\n",
       "      <td>0000002</td>\n",
       "      <td>clear</td>\n",
       "    </tr>\n",
       "    <tr>\n",
       "      <th>2</th>\n",
       "      <td>0000003</td>\n",
       "      <td>clear</td>\n",
       "    </tr>\n",
       "    <tr>\n",
       "      <th>3</th>\n",
       "      <td>0000004</td>\n",
       "      <td>clear</td>\n",
       "    </tr>\n",
       "    <tr>\n",
       "      <th>4</th>\n",
       "      <td>0000005</td>\n",
       "      <td>clear</td>\n",
       "    </tr>\n",
       "  </tbody>\n",
       "</table>\n",
       "</div>"
      ],
      "text/plain": [
       "   case_id weather\n",
       "0  0000001   clear\n",
       "1  0000002   clear\n",
       "2  0000003   clear\n",
       "3  0000004   clear\n",
       "4  0000005   clear"
      ]
     },
     "execution_count": 30,
     "metadata": {},
     "output_type": "execute_result"
    }
   ],
   "source": [
    "weather_entity.head()"
   ]
  },
  {
   "cell_type": "code",
   "execution_count": 31,
   "metadata": {},
   "outputs": [],
   "source": [
    "save_df(weather_entity, \"weather_entity.csv\")"
   ]
  },
  {
   "cell_type": "markdown",
   "metadata": {},
   "source": [
    "## ROAD CONDITIONS ENTITY"
   ]
  },
  {
   "cell_type": "code",
   "execution_count": 32,
   "metadata": {},
   "outputs": [],
   "source": [
    "roadcondition_entity = normal_form(collisions, \"road_condition\", \"case_id\")"
   ]
  },
  {
   "cell_type": "code",
   "execution_count": 33,
   "metadata": {},
   "outputs": [
    {
     "data": {
      "text/html": [
       "<div>\n",
       "<style scoped>\n",
       "    .dataframe tbody tr th:only-of-type {\n",
       "        vertical-align: middle;\n",
       "    }\n",
       "\n",
       "    .dataframe tbody tr th {\n",
       "        vertical-align: top;\n",
       "    }\n",
       "\n",
       "    .dataframe thead th {\n",
       "        text-align: right;\n",
       "    }\n",
       "</style>\n",
       "<table border=\"1\" class=\"dataframe\">\n",
       "  <thead>\n",
       "    <tr style=\"text-align: right;\">\n",
       "      <th></th>\n",
       "      <th>case_id</th>\n",
       "      <th>road_condition</th>\n",
       "    </tr>\n",
       "  </thead>\n",
       "  <tbody>\n",
       "    <tr>\n",
       "      <th>0</th>\n",
       "      <td>0000001</td>\n",
       "      <td>normal</td>\n",
       "    </tr>\n",
       "    <tr>\n",
       "      <th>1</th>\n",
       "      <td>0000002</td>\n",
       "      <td>normal</td>\n",
       "    </tr>\n",
       "    <tr>\n",
       "      <th>2</th>\n",
       "      <td>0000003</td>\n",
       "      <td>normal</td>\n",
       "    </tr>\n",
       "    <tr>\n",
       "      <th>3</th>\n",
       "      <td>0000004</td>\n",
       "      <td>normal</td>\n",
       "    </tr>\n",
       "    <tr>\n",
       "      <th>4</th>\n",
       "      <td>0000005</td>\n",
       "      <td>normal</td>\n",
       "    </tr>\n",
       "  </tbody>\n",
       "</table>\n",
       "</div>"
      ],
      "text/plain": [
       "   case_id road_condition\n",
       "0  0000001         normal\n",
       "1  0000002         normal\n",
       "2  0000003         normal\n",
       "3  0000004         normal\n",
       "4  0000005         normal"
      ]
     },
     "execution_count": 33,
     "metadata": {},
     "output_type": "execute_result"
    }
   ],
   "source": [
    "roadcondition_entity.head()"
   ]
  },
  {
   "cell_type": "code",
   "execution_count": 34,
   "metadata": {},
   "outputs": [],
   "source": [
    "save_df(roadcondition_entity, \"roadcondition_entity.csv\")"
   ]
  },
  {
   "cell_type": "markdown",
   "metadata": {},
   "source": [
    "## PARTY ENTITY"
   ]
  },
  {
   "cell_type": "code",
   "execution_count": 35,
   "metadata": {},
   "outputs": [],
   "source": [
    "cols_from_parties = ['id', 'case_id', 'party_number', 'party_type', 'party_age', 'party_sex',\n",
    "                   'party_sobriety', 'at_fault', 'party_drug_physical', 'cellphone_use', 'movement_preceding_collision',\n",
    "                   'hazardous_materials', 'financial_responsibility']\n",
    "\n",
    "party_entity = parties[cols_from_parties].rename(columns={'id': 'pid'})"
   ]
  },
  {
   "cell_type": "code",
   "execution_count": 36,
   "metadata": {},
   "outputs": [
    {
     "data": {
      "text/html": [
       "<div>\n",
       "<style scoped>\n",
       "    .dataframe tbody tr th:only-of-type {\n",
       "        vertical-align: middle;\n",
       "    }\n",
       "\n",
       "    .dataframe tbody tr th {\n",
       "        vertical-align: top;\n",
       "    }\n",
       "\n",
       "    .dataframe thead th {\n",
       "        text-align: right;\n",
       "    }\n",
       "</style>\n",
       "<table border=\"1\" class=\"dataframe\">\n",
       "  <thead>\n",
       "    <tr style=\"text-align: right;\">\n",
       "      <th></th>\n",
       "      <th>pid</th>\n",
       "      <th>case_id</th>\n",
       "      <th>party_number</th>\n",
       "      <th>party_type</th>\n",
       "      <th>party_age</th>\n",
       "      <th>party_sex</th>\n",
       "      <th>party_sobriety</th>\n",
       "      <th>at_fault</th>\n",
       "      <th>party_drug_physical</th>\n",
       "      <th>cellphone_use</th>\n",
       "      <th>movement_preceding_collision</th>\n",
       "      <th>hazardous_materials</th>\n",
       "      <th>financial_responsibility</th>\n",
       "    </tr>\n",
       "  </thead>\n",
       "  <tbody>\n",
       "    <tr>\n",
       "      <th>0</th>\n",
       "      <td>8</td>\n",
       "      <td>0000001</td>\n",
       "      <td>1</td>\n",
       "      <td>driver</td>\n",
       "      <td>84.0</td>\n",
       "      <td>F</td>\n",
       "      <td>A</td>\n",
       "      <td>T</td>\n",
       "      <td>NaN</td>\n",
       "      <td>C</td>\n",
       "      <td>other</td>\n",
       "      <td>F</td>\n",
       "      <td>Y</td>\n",
       "    </tr>\n",
       "    <tr>\n",
       "      <th>1</th>\n",
       "      <td>9</td>\n",
       "      <td>0000001</td>\n",
       "      <td>2</td>\n",
       "      <td>parked vehicle</td>\n",
       "      <td>NaN</td>\n",
       "      <td>NaN</td>\n",
       "      <td>H</td>\n",
       "      <td>F</td>\n",
       "      <td>H</td>\n",
       "      <td>D</td>\n",
       "      <td>parked</td>\n",
       "      <td>F</td>\n",
       "      <td>O</td>\n",
       "    </tr>\n",
       "    <tr>\n",
       "      <th>2</th>\n",
       "      <td>10</td>\n",
       "      <td>0000002</td>\n",
       "      <td>1</td>\n",
       "      <td>other</td>\n",
       "      <td>NaN</td>\n",
       "      <td>NaN</td>\n",
       "      <td>H</td>\n",
       "      <td>F</td>\n",
       "      <td>H</td>\n",
       "      <td>NaN</td>\n",
       "      <td>proceeding straight</td>\n",
       "      <td>F</td>\n",
       "      <td>O</td>\n",
       "    </tr>\n",
       "    <tr>\n",
       "      <th>3</th>\n",
       "      <td>11</td>\n",
       "      <td>0000003</td>\n",
       "      <td>1</td>\n",
       "      <td>driver</td>\n",
       "      <td>20.0</td>\n",
       "      <td>F</td>\n",
       "      <td>A</td>\n",
       "      <td>F</td>\n",
       "      <td>NaN</td>\n",
       "      <td>D</td>\n",
       "      <td>proceeding straight</td>\n",
       "      <td>F</td>\n",
       "      <td>Y</td>\n",
       "    </tr>\n",
       "    <tr>\n",
       "      <th>4</th>\n",
       "      <td>12</td>\n",
       "      <td>0000003</td>\n",
       "      <td>2</td>\n",
       "      <td>driver</td>\n",
       "      <td>NaN</td>\n",
       "      <td>NaN</td>\n",
       "      <td>G</td>\n",
       "      <td>T</td>\n",
       "      <td>G</td>\n",
       "      <td>D</td>\n",
       "      <td>proceeding straight</td>\n",
       "      <td>F</td>\n",
       "      <td>NaN</td>\n",
       "    </tr>\n",
       "  </tbody>\n",
       "</table>\n",
       "</div>"
      ],
      "text/plain": [
       "   pid  case_id  party_number      party_type  party_age party_sex  \\\n",
       "0    8  0000001             1          driver       84.0         F   \n",
       "1    9  0000001             2  parked vehicle        NaN       NaN   \n",
       "2   10  0000002             1           other        NaN       NaN   \n",
       "3   11  0000003             1          driver       20.0         F   \n",
       "4   12  0000003             2          driver        NaN       NaN   \n",
       "\n",
       "  party_sobriety at_fault party_drug_physical cellphone_use  \\\n",
       "0              A        T                 NaN             C   \n",
       "1              H        F                   H             D   \n",
       "2              H        F                   H           NaN   \n",
       "3              A        F                 NaN             D   \n",
       "4              G        T                   G             D   \n",
       "\n",
       "  movement_preceding_collision hazardous_materials financial_responsibility  \n",
       "0                        other                   F                        Y  \n",
       "1                       parked                   F                        O  \n",
       "2          proceeding straight                   F                        O  \n",
       "3          proceeding straight                   F                        Y  \n",
       "4          proceeding straight                   F                      NaN  "
      ]
     },
     "execution_count": 36,
     "metadata": {},
     "output_type": "execute_result"
    }
   ],
   "source": [
    "party_entity.head()"
   ]
  },
  {
   "cell_type": "code",
   "execution_count": 37,
   "metadata": {},
   "outputs": [],
   "source": [
    "save_df(party_entity, \"party_entity.csv\")"
   ]
  },
  {
   "cell_type": "markdown",
   "metadata": {},
   "source": [
    "## PARTY EQUIPMENT"
   ]
  },
  {
   "cell_type": "code",
   "execution_count": 38,
   "metadata": {},
   "outputs": [],
   "source": [
    "partyEquipment = normal_form(parties, \"party_safety_equipment\", \"id\").rename(columns={'id': 'pid', \"party_safety_equipment\": \"equipment\"})"
   ]
  },
  {
   "cell_type": "code",
   "execution_count": 39,
   "metadata": {},
   "outputs": [
    {
     "data": {
      "text/html": [
       "<div>\n",
       "<style scoped>\n",
       "    .dataframe tbody tr th:only-of-type {\n",
       "        vertical-align: middle;\n",
       "    }\n",
       "\n",
       "    .dataframe tbody tr th {\n",
       "        vertical-align: top;\n",
       "    }\n",
       "\n",
       "    .dataframe thead th {\n",
       "        text-align: right;\n",
       "    }\n",
       "</style>\n",
       "<table border=\"1\" class=\"dataframe\">\n",
       "  <thead>\n",
       "    <tr style=\"text-align: right;\">\n",
       "      <th></th>\n",
       "      <th>pid</th>\n",
       "      <th>equipment</th>\n",
       "    </tr>\n",
       "  </thead>\n",
       "  <tbody>\n",
       "    <tr>\n",
       "      <th>0</th>\n",
       "      <td>8</td>\n",
       "      <td>Lap/Shoulder Harness Used</td>\n",
       "    </tr>\n",
       "    <tr>\n",
       "      <th>3</th>\n",
       "      <td>11</td>\n",
       "      <td>Lap/Shoulder Harness Used</td>\n",
       "    </tr>\n",
       "    <tr>\n",
       "      <th>6</th>\n",
       "      <td>14</td>\n",
       "      <td>Lap/Shoulder Harness Used</td>\n",
       "    </tr>\n",
       "    <tr>\n",
       "      <th>7</th>\n",
       "      <td>15</td>\n",
       "      <td>Lap/Shoulder Harness Used</td>\n",
       "    </tr>\n",
       "    <tr>\n",
       "      <th>8</th>\n",
       "      <td>16</td>\n",
       "      <td>Lap/Shoulder Harness Used</td>\n",
       "    </tr>\n",
       "  </tbody>\n",
       "</table>\n",
       "</div>"
      ],
      "text/plain": [
       "   pid                  equipment\n",
       "0    8  Lap/Shoulder Harness Used\n",
       "3   11  Lap/Shoulder Harness Used\n",
       "6   14  Lap/Shoulder Harness Used\n",
       "7   15  Lap/Shoulder Harness Used\n",
       "8   16  Lap/Shoulder Harness Used"
      ]
     },
     "execution_count": 39,
     "metadata": {},
     "output_type": "execute_result"
    }
   ],
   "source": [
    "partyEquipment.head()"
   ]
  },
  {
   "cell_type": "code",
   "execution_count": 40,
   "metadata": {},
   "outputs": [],
   "source": [
    "save_df(partyEquipment, \"partyEquipment.csv\")"
   ]
  },
  {
   "cell_type": "markdown",
   "metadata": {},
   "source": [
    "## VEHICLE ENTITY"
   ]
  },
  {
   "cell_type": "code",
   "execution_count": 41,
   "metadata": {},
   "outputs": [],
   "source": [
    "cols_from_parties = ['id', 'statewide_vehicle_type', 'vehicle_make', 'vehicle_year']\n",
    "\n",
    "vehicle_entity = parties[cols_from_parties].rename(columns={'id': 'pid'})"
   ]
  },
  {
   "cell_type": "code",
   "execution_count": 42,
   "metadata": {},
   "outputs": [
    {
     "data": {
      "text/html": [
       "<div>\n",
       "<style scoped>\n",
       "    .dataframe tbody tr th:only-of-type {\n",
       "        vertical-align: middle;\n",
       "    }\n",
       "\n",
       "    .dataframe tbody tr th {\n",
       "        vertical-align: top;\n",
       "    }\n",
       "\n",
       "    .dataframe thead th {\n",
       "        text-align: right;\n",
       "    }\n",
       "</style>\n",
       "<table border=\"1\" class=\"dataframe\">\n",
       "  <thead>\n",
       "    <tr style=\"text-align: right;\">\n",
       "      <th></th>\n",
       "      <th>pid</th>\n",
       "      <th>statewide_vehicle_type</th>\n",
       "      <th>vehicle_make</th>\n",
       "      <th>vehicle_year</th>\n",
       "    </tr>\n",
       "  </thead>\n",
       "  <tbody>\n",
       "    <tr>\n",
       "      <th>0</th>\n",
       "      <td>8</td>\n",
       "      <td>passenger car</td>\n",
       "      <td>FORD</td>\n",
       "      <td>2000.0</td>\n",
       "    </tr>\n",
       "    <tr>\n",
       "      <th>1</th>\n",
       "      <td>9</td>\n",
       "      <td>passenger car</td>\n",
       "      <td>BUICK</td>\n",
       "      <td>1992.0</td>\n",
       "    </tr>\n",
       "    <tr>\n",
       "      <th>2</th>\n",
       "      <td>10</td>\n",
       "      <td>pickup or panel truck</td>\n",
       "      <td>TOYOTA</td>\n",
       "      <td>NaN</td>\n",
       "    </tr>\n",
       "    <tr>\n",
       "      <th>3</th>\n",
       "      <td>11</td>\n",
       "      <td>passenger car</td>\n",
       "      <td>FORD</td>\n",
       "      <td>1995.0</td>\n",
       "    </tr>\n",
       "    <tr>\n",
       "      <th>4</th>\n",
       "      <td>12</td>\n",
       "      <td>pickup or panel truck</td>\n",
       "      <td>NaN</td>\n",
       "      <td>NaN</td>\n",
       "    </tr>\n",
       "  </tbody>\n",
       "</table>\n",
       "</div>"
      ],
      "text/plain": [
       "   pid statewide_vehicle_type vehicle_make  vehicle_year\n",
       "0    8          passenger car         FORD        2000.0\n",
       "1    9          passenger car        BUICK        1992.0\n",
       "2   10  pickup or panel truck       TOYOTA           NaN\n",
       "3   11          passenger car         FORD        1995.0\n",
       "4   12  pickup or panel truck          NaN           NaN"
      ]
     },
     "execution_count": 42,
     "metadata": {},
     "output_type": "execute_result"
    }
   ],
   "source": [
    "vehicle_entity.head()"
   ]
  },
  {
   "cell_type": "code",
   "execution_count": 43,
   "metadata": {},
   "outputs": [],
   "source": [
    "save_df(vehicle_entity, \"vehicle_entity.csv\")"
   ]
  },
  {
   "cell_type": "markdown",
   "metadata": {},
   "source": [
    "## OTHER ASSOCIATED FACTOR ENTITY"
   ]
  },
  {
   "cell_type": "code",
   "execution_count": 44,
   "metadata": {},
   "outputs": [],
   "source": [
    "otherAssociatedFactor_entity = normal_form(parties, \"other_associate_factor\", \"id\").rename(columns={'id': 'pid', \"other_associate_factor\": \"factor\"})"
   ]
  },
  {
   "cell_type": "code",
   "execution_count": 45,
   "metadata": {},
   "outputs": [
    {
     "data": {
      "text/html": [
       "<div>\n",
       "<style scoped>\n",
       "    .dataframe tbody tr th:only-of-type {\n",
       "        vertical-align: middle;\n",
       "    }\n",
       "\n",
       "    .dataframe tbody tr th {\n",
       "        vertical-align: top;\n",
       "    }\n",
       "\n",
       "    .dataframe thead th {\n",
       "        text-align: right;\n",
       "    }\n",
       "</style>\n",
       "<table border=\"1\" class=\"dataframe\">\n",
       "  <thead>\n",
       "    <tr style=\"text-align: right;\">\n",
       "      <th></th>\n",
       "      <th>pid</th>\n",
       "      <th>factor</th>\n",
       "    </tr>\n",
       "  </thead>\n",
       "  <tbody>\n",
       "    <tr>\n",
       "      <th>0</th>\n",
       "      <td>8</td>\n",
       "      <td>Uninvolved Vehicle</td>\n",
       "    </tr>\n",
       "    <tr>\n",
       "      <th>2</th>\n",
       "      <td>10</td>\n",
       "      <td>Runaway Vehicle</td>\n",
       "    </tr>\n",
       "    <tr>\n",
       "      <th>5</th>\n",
       "      <td>13</td>\n",
       "      <td>Violation</td>\n",
       "    </tr>\n",
       "    <tr>\n",
       "      <th>13</th>\n",
       "      <td>21</td>\n",
       "      <td>Stop and Go Traffic</td>\n",
       "    </tr>\n",
       "    <tr>\n",
       "      <th>30</th>\n",
       "      <td>38</td>\n",
       "      <td>Violation</td>\n",
       "    </tr>\n",
       "  </tbody>\n",
       "</table>\n",
       "</div>"
      ],
      "text/plain": [
       "    pid               factor\n",
       "0     8   Uninvolved Vehicle\n",
       "2    10      Runaway Vehicle\n",
       "5    13            Violation\n",
       "13   21  Stop and Go Traffic\n",
       "30   38            Violation"
      ]
     },
     "execution_count": 45,
     "metadata": {},
     "output_type": "execute_result"
    }
   ],
   "source": [
    "otherAssociatedFactor_entity.head()"
   ]
  },
  {
   "cell_type": "code",
   "execution_count": 46,
   "metadata": {},
   "outputs": [],
   "source": [
    "save_df(otherAssociatedFactor_entity, 'otherAssociatedFactor_entity.csv')"
   ]
  },
  {
   "cell_type": "markdown",
   "metadata": {},
   "source": [
    "## VICTIM ENTITY"
   ]
  },
  {
   "cell_type": "code",
   "execution_count": 47,
   "metadata": {},
   "outputs": [
    {
     "data": {
      "text/plain": [
       "Index(['case_id', 'id', 'party_number', 'victim_age',\n",
       "       'victim_degree_of_injury', 'victim_ejected', 'victim_role',\n",
       "       'victim_safety_equipment_1', 'victim_safety_equipment_2',\n",
       "       'victim_seating_position', 'victim_sex',\n",
       "       'victim_seating_position_code'],\n",
       "      dtype='object')"
      ]
     },
     "execution_count": 47,
     "metadata": {},
     "output_type": "execute_result"
    }
   ],
   "source": [
    "victims.columns"
   ]
  },
  {
   "cell_type": "code",
   "execution_count": 48,
   "metadata": {
    "tags": []
   },
   "outputs": [],
   "source": [
    "cols = ['vid', 'pid', 'victim_role', 'victim_age', 'victim_degree_of_injury', 'victim_ejected', 'victim_sex',\n",
    "                    'victim_seating_position', 'victim_seating_position_code']\n",
    "\n",
    "victim_entity = pd.merge(victims.rename(columns={'id': 'vid'}), parties[['case_id', 'party_number', 'id']].rename(columns={'id': 'pid'}), how='inner', on=['case_id', 'party_number'])[cols]"
   ]
  },
  {
   "cell_type": "code",
   "execution_count": 49,
   "metadata": {},
   "outputs": [
    {
     "data": {
      "text/html": [
       "<div>\n",
       "<style scoped>\n",
       "    .dataframe tbody tr th:only-of-type {\n",
       "        vertical-align: middle;\n",
       "    }\n",
       "\n",
       "    .dataframe tbody tr th {\n",
       "        vertical-align: top;\n",
       "    }\n",
       "\n",
       "    .dataframe thead th {\n",
       "        text-align: right;\n",
       "    }\n",
       "</style>\n",
       "<table border=\"1\" class=\"dataframe\">\n",
       "  <thead>\n",
       "    <tr style=\"text-align: right;\">\n",
       "      <th></th>\n",
       "      <th>vid</th>\n",
       "      <th>pid</th>\n",
       "      <th>victim_role</th>\n",
       "      <th>victim_age</th>\n",
       "      <th>victim_degree_of_injury</th>\n",
       "      <th>victim_ejected</th>\n",
       "      <th>victim_sex</th>\n",
       "      <th>victim_seating_position</th>\n",
       "      <th>victim_seating_position_code</th>\n",
       "    </tr>\n",
       "  </thead>\n",
       "  <tbody>\n",
       "    <tr>\n",
       "      <th>0</th>\n",
       "      <td>3</td>\n",
       "      <td>11</td>\n",
       "      <td>Passenger</td>\n",
       "      <td>21.0</td>\n",
       "      <td>Not Ejected</td>\n",
       "      <td>M</td>\n",
       "      <td>Passenger</td>\n",
       "      <td>3.0</td>\n",
       "    </tr>\n",
       "    <tr>\n",
       "      <th>1</th>\n",
       "      <td>4</td>\n",
       "      <td>15</td>\n",
       "      <td>Driver</td>\n",
       "      <td>44.0</td>\n",
       "      <td>Not Ejected</td>\n",
       "      <td>M</td>\n",
       "      <td>Driver</td>\n",
       "      <td>1.0</td>\n",
       "    </tr>\n",
       "    <tr>\n",
       "      <th>2</th>\n",
       "      <td>5</td>\n",
       "      <td>20</td>\n",
       "      <td>Passenger</td>\n",
       "      <td>59.0</td>\n",
       "      <td>Not Ejected</td>\n",
       "      <td>F</td>\n",
       "      <td>Passenger</td>\n",
       "      <td>3.0</td>\n",
       "    </tr>\n",
       "    <tr>\n",
       "      <th>3</th>\n",
       "      <td>6</td>\n",
       "      <td>21</td>\n",
       "      <td>Passenger</td>\n",
       "      <td>31.0</td>\n",
       "      <td>Not Ejected</td>\n",
       "      <td>M</td>\n",
       "      <td>Passenger</td>\n",
       "      <td>3.0</td>\n",
       "    </tr>\n",
       "    <tr>\n",
       "      <th>4</th>\n",
       "      <td>7</td>\n",
       "      <td>23</td>\n",
       "      <td>Passenger</td>\n",
       "      <td>14.0</td>\n",
       "      <td>Not Ejected</td>\n",
       "      <td>F</td>\n",
       "      <td>Passenger</td>\n",
       "      <td>6.0</td>\n",
       "    </tr>\n",
       "  </tbody>\n",
       "</table>\n",
       "</div>"
      ],
      "text/plain": [
       "   vid  pid victim_role  victim_age victim_ejected victim_sex  \\\n",
       "0    3   11   Passenger        21.0    Not Ejected          M   \n",
       "1    4   15      Driver        44.0    Not Ejected          M   \n",
       "2    5   20   Passenger        59.0    Not Ejected          F   \n",
       "3    6   21   Passenger        31.0    Not Ejected          M   \n",
       "4    7   23   Passenger        14.0    Not Ejected          F   \n",
       "\n",
       "  victim_seating_position  victim_seating_position_code  \n",
       "0               Passenger                           3.0  \n",
       "1                  Driver                           1.0  \n",
       "2               Passenger                           3.0  \n",
       "3               Passenger                           3.0  \n",
       "4               Passenger                           6.0  "
      ]
     },
     "execution_count": 49,
     "metadata": {},
     "output_type": "execute_result"
    }
   ],
   "source": [
    "victim_entity.head()"
   ]
  },
  {
   "cell_type": "code",
   "execution_count": 50,
   "metadata": {},
   "outputs": [
    {
     "data": {
      "text/plain": [
       "True"
      ]
     },
     "execution_count": 50,
     "metadata": {},
     "output_type": "execute_result"
    }
   ],
   "source": [
    "victim_entity.shape[0] == victims.shape[0]"
   ]
  },
  {
   "cell_type": "code",
   "execution_count": 51,
   "metadata": {},
   "outputs": [],
   "source": [
    "save_df(victim_entity, \"victim_entity.csv\")"
   ]
  },
  {
   "cell_type": "markdown",
   "metadata": {},
   "source": [
    "## VICTIM EQUIPMENT"
   ]
  },
  {
   "cell_type": "code",
   "execution_count": 52,
   "metadata": {},
   "outputs": [],
   "source": [
    "victimEquipment = normal_form(victims, \"victim_safety_equipment\", \"id\").rename(columns={'id': 'vid', \"victim_safety_equipment\": \"equipment\"})"
   ]
  },
  {
   "cell_type": "code",
   "execution_count": 53,
   "metadata": {},
   "outputs": [
    {
     "data": {
      "text/html": [
       "<div>\n",
       "<style scoped>\n",
       "    .dataframe tbody tr th:only-of-type {\n",
       "        vertical-align: middle;\n",
       "    }\n",
       "\n",
       "    .dataframe tbody tr th {\n",
       "        vertical-align: top;\n",
       "    }\n",
       "\n",
       "    .dataframe thead th {\n",
       "        text-align: right;\n",
       "    }\n",
       "</style>\n",
       "<table border=\"1\" class=\"dataframe\">\n",
       "  <thead>\n",
       "    <tr style=\"text-align: right;\">\n",
       "      <th></th>\n",
       "      <th>vid</th>\n",
       "      <th>equipment</th>\n",
       "    </tr>\n",
       "  </thead>\n",
       "  <tbody>\n",
       "    <tr>\n",
       "      <th>0</th>\n",
       "      <td>3</td>\n",
       "      <td>Lap/Shoulder Harness Used</td>\n",
       "    </tr>\n",
       "    <tr>\n",
       "      <th>1</th>\n",
       "      <td>4</td>\n",
       "      <td>Lap/Shoulder Harness Used</td>\n",
       "    </tr>\n",
       "    <tr>\n",
       "      <th>2</th>\n",
       "      <td>5</td>\n",
       "      <td>Lap/Shoulder Harness Used</td>\n",
       "    </tr>\n",
       "    <tr>\n",
       "      <th>3</th>\n",
       "      <td>6</td>\n",
       "      <td>Lap/Shoulder Harness Used</td>\n",
       "    </tr>\n",
       "    <tr>\n",
       "      <th>4</th>\n",
       "      <td>7</td>\n",
       "      <td>Lap Belt Used</td>\n",
       "    </tr>\n",
       "  </tbody>\n",
       "</table>\n",
       "</div>"
      ],
      "text/plain": [
       "   vid                  equipment\n",
       "0    3  Lap/Shoulder Harness Used\n",
       "1    4  Lap/Shoulder Harness Used\n",
       "2    5  Lap/Shoulder Harness Used\n",
       "3    6  Lap/Shoulder Harness Used\n",
       "4    7              Lap Belt Used"
      ]
     },
     "execution_count": 53,
     "metadata": {},
     "output_type": "execute_result"
    }
   ],
   "source": [
    "victimEquipment.head()"
   ]
  },
  {
   "cell_type": "code",
   "execution_count": 54,
   "metadata": {},
   "outputs": [],
   "source": [
    "save_df(victimEquipment, \"victimEquipment.csv\")"
   ]
  },
  {
   "cell_type": "code",
   "execution_count": 55,
   "metadata": {},
   "outputs": [
    {
     "data": {
      "text/plain": [
       "case_id                     0.000000e+00\n",
       "datetime                    0.000000e+00\n",
       "officer_id                  2.504583e-03\n",
       "type_of_collision           7.178788e-03\n",
       "process_date                0.000000e+00\n",
       "primary_collision_factor    8.558593e-03\n",
       "collision_severity          0.000000e+00\n",
       "tow_away                    3.882212e-03\n",
       "hit_and_run                 2.718826e-07\n",
       "school_bus_related          0.000000e+00\n",
       "vid                         0.000000e+00\n",
       "lid                         0.000000e+00\n",
       "cid                         0.000000e+00\n",
       "dtype: float64"
      ]
     },
     "execution_count": 55,
     "metadata": {},
     "output_type": "execute_result"
    }
   ],
   "source": [
    "collision_entity.isna().mean()"
   ]
  }
 ],
 "metadata": {
  "kernelspec": {
   "display_name": "Python [conda env:ada]",
   "language": "python",
   "name": "conda-env-ada-py"
  },
  "language_info": {
   "codemirror_mode": {
    "name": "ipython",
    "version": 3
   },
   "file_extension": ".py",
   "mimetype": "text/x-python",
   "name": "python",
   "nbconvert_exporter": "python",
   "pygments_lexer": "ipython3",
   "version": "3.9.2"
  }
 },
 "nbformat": 4,
 "nbformat_minor": 4
}
