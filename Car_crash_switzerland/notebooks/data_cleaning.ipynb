{
 "cells": [
  {
   "cell_type": "code",
   "execution_count": 3,
   "metadata": {},
   "outputs": [],
   "source": [
    "import pandas as pd\n",
    "import numpy as np"
   ]
  },
  {
   "cell_type": "code",
   "execution_count": null,
   "metadata": {},
   "outputs": [],
   "source": [
    "folder = 'data/'\n",
    "\n",
    "collisions = pd.read_csv(folder+\"collisions2018.csv\", dtype={'case_id': str}, low_memory=False)\n",
    "parties = pd.read_csv(folder+\"parties2018.csv\",dtype={'case_id': str}, low_memory=False)\n",
    "victims = pd.read_csv(folder+\"victims2018.csv\",dtype={'case_id': str}, low_memory=False)"
   ]
  },
  {
   "cell_type": "markdown",
   "metadata": {},
   "source": [
    "## PARTIES"
   ]
  },
  {
   "cell_type": "code",
   "execution_count": null,
   "metadata": {},
   "outputs": [],
   "source": [
    "parties.head(10)"
   ]
  },
  {
   "cell_type": "code",
   "execution_count": null,
   "metadata": {},
   "outputs": [],
   "source": [
    "parties.info()"
   ]
  },
  {
   "cell_type": "code",
   "execution_count": null,
   "metadata": {},
   "outputs": [],
   "source": [
    "set(parties.cellphone_use.apply(type))"
   ]
  },
  {
   "cell_type": "code",
   "execution_count": null,
   "metadata": {},
   "outputs": [],
   "source": [
    "parties[parties['cellphone_use'].apply(lambda x: isinstance(x, float))]['cellphone_use']"
   ]
  },
  {
   "cell_type": "markdown",
   "metadata": {},
   "source": [
    "NaN values are labelled as float type"
   ]
  },
  {
   "cell_type": "code",
   "execution_count": null,
   "metadata": {},
   "outputs": [],
   "source": [
    "set(parties.vehicle_make.apply(type))"
   ]
  },
  {
   "cell_type": "markdown",
   "metadata": {},
   "source": [
    "All the other columns of type object have missing values, but the types are the same."
   ]
  },
  {
   "cell_type": "markdown",
   "metadata": {},
   "source": [
    "### Check if column fields conform to the schema"
   ]
  },
  {
   "cell_type": "code",
   "execution_count": null,
   "metadata": {},
   "outputs": [
    {
     "name": "stdout",
     "output_type": "stream",
     "text": [
      "----------------------------------------------\n",
      "0    3979697\n",
      "1    3306909\n",
      "Name: at_fault, dtype: int64\n",
      "----------------------------------------------\n",
      "3698263                92\n",
      "1237567                76\n",
      "0065479                58\n",
      "3763361                34\n",
      "1987342                28\n",
      "                       ..\n",
      "3710011201223501103     1\n",
      "2314517                 1\n",
      "2522615                 1\n",
      "0482448                 1\n",
      "0519714                 1\n",
      "Name: case_id, Length: 3678058, dtype: int64\n",
      "----------------------------------------------\n",
      "3      2572993\n",
      "NaN    2540882\n",
      "D      1274423\n",
      "C       795475\n",
      "2        39114\n",
      "B        38932\n",
      "1        24787\n",
      "Name: cellphone_use, dtype: int64\n",
      "----------------------------------------------\n",
      "Y      5249681\n",
      "N       746801\n",
      "O       664187\n",
      "NaN     624967\n",
      "E          970\n",
      "Name: financial_responsibility, dtype: int64\n",
      "----------------------------------------------\n",
      "NaN    7269293\n",
      "A        17313\n",
      "Name: hazardous_materials, dtype: int64\n",
      "----------------------------------------------\n",
      "4200445    1\n",
      "6530781    1\n",
      "2297544    1\n",
      "6489801    1\n",
      "2305740    1\n",
      "          ..\n",
      "5349218    1\n",
      "1152867    1\n",
      "5357414    1\n",
      "1161063    1\n",
      "4196353    1\n",
      "Name: id, Length: 7286606, dtype: int64\n",
      "----------------------------------------------\n",
      "proceeding straight           3325544\n",
      "stopped                       1036708\n",
      "making left turn               572768\n",
      "parked                         428917\n",
      "slowing/stopping               398310\n",
      "changing lanes                 264999\n",
      "making right turn              214169\n",
      "ran off road                   209261\n",
      "other                          181121\n",
      "NaN                            121328\n",
      "backing                        117564\n",
      "other unsafe turning           113658\n",
      "entering traffic               111022\n",
      "making u-turn                   51851\n",
      "passing other vehicle           46303\n",
      "crossed into opposing lane      36971\n",
      "merging                         24340\n",
      "traveling wrong way             15897\n",
      "parking maneuver                15875\n",
      "Name: movement_preceding_collision, dtype: int64\n",
      "----------------------------------------------\n",
      "N      5410008\n",
      "A       551353\n",
      "NaN     479546\n",
      "F       279826\n",
      "G       241815\n",
      "H        68380\n",
      "M        66173\n",
      "E        53022\n",
      "I        43092\n",
      "L        36958\n",
      "K        19303\n",
      "O        15983\n",
      "J        13707\n",
      "Y         4927\n",
      "P          820\n",
      "R          697\n",
      "U          310\n",
      "T          241\n",
      "X          162\n",
      "S          102\n",
      "Q           80\n",
      "V           74\n",
      "W           27\n",
      "Name: other_associate_factor_1, dtype: int64\n",
      "----------------------------------------------\n",
      "NaN    7144353\n",
      "N        56571\n",
      "F        24720\n",
      "G        16223\n",
      "H        10432\n",
      "M         9533\n",
      "I         6674\n",
      "L         5593\n",
      "J         3608\n",
      "E         3401\n",
      "K         3162\n",
      "O         1816\n",
      "Y          300\n",
      "P           93\n",
      "R           72\n",
      "T           18\n",
      "U           16\n",
      "S           13\n",
      "X            4\n",
      "V            2\n",
      "Q            1\n",
      "W            1\n",
      "Name: other_associate_factor_2, dtype: int64\n",
      "----------------------------------------------\n",
      "NaN      1097637\n",
      "19.0      215399\n",
      "18.0      211726\n",
      "20.0      201134\n",
      "21.0      194657\n",
      "          ...   \n",
      "101.0        372\n",
      "102.0        336\n",
      "103.0        101\n",
      "104.0         43\n",
      "105.0         20\n",
      "Name: party_age, Length: 107, dtype: int64\n",
      "----------------------------------------------\n",
      "NaN    6251422\n",
      "G       585062\n",
      "H       384860\n",
      "I        31240\n",
      "E        23429\n",
      "F        10593\n",
      "Name: party_drug_physical, dtype: int64\n",
      "----------------------------------------------\n",
      "1     3678042\n",
      "2     3003239\n",
      "3      474045\n",
      "4       99631\n",
      "5       22314\n",
      "       ...   \n",
      "80          1\n",
      "79          1\n",
      "78          1\n",
      "77          1\n",
      "92          1\n",
      "Name: party_number, Length: 92, dtype: int64\n",
      "----------------------------------------------\n",
      "G      2858794\n",
      "M      1781891\n",
      "NaN    1165894\n",
      "L       459608\n",
      "B       411826\n",
      "P       318302\n",
      "N        73696\n",
      "C        47235\n",
      "A        37160\n",
      "W        36938\n",
      "H        32227\n",
      "E        20840\n",
      "Y        15295\n",
      "V         7947\n",
      "D         5788\n",
      "F         4876\n",
      "J         3235\n",
      "U         2370\n",
      "K          746\n",
      "S          608\n",
      "Q          548\n",
      "T          433\n",
      "X          214\n",
      "R          135\n",
      "Name: party_safety_equipment_1, dtype: int64\n",
      "----------------------------------------------\n",
      "NaN    4655961\n",
      "G      2372376\n",
      "B        93760\n",
      "W        37536\n",
      "M        27093\n",
      "C        23793\n",
      "L        23680\n",
      "H        22748\n",
      "E         9394\n",
      "P         4004\n",
      "A         2971\n",
      "F         2850\n",
      "V         2727\n",
      "D         2627\n",
      "Y         1236\n",
      "J         1200\n",
      "N          966\n",
      "Q          539\n",
      "S          295\n",
      "K          282\n",
      "T          243\n",
      "U          198\n",
      "R           97\n",
      "X           30\n",
      "Name: party_safety_equipment_2, dtype: int64\n",
      "----------------------------------------------\n",
      "male      3919641\n",
      "female    2456034\n",
      "NaN        910931\n",
      "Name: party_sex, dtype: int64\n",
      "----------------------------------------------\n",
      "A      5613380\n",
      "G       678479\n",
      "H       382563\n",
      "B       255808\n",
      "NaN     251743\n",
      "D        56710\n",
      "C        47923\n",
      "Name: party_sobriety, dtype: int64\n",
      "----------------------------------------------\n",
      "driver            6593885\n",
      "parked vehicle     442693\n",
      "pedestrian         107348\n",
      "bicyclist           85448\n",
      "NaN                 31574\n",
      "other               25658\n",
      "Name: party_type, dtype: int64\n",
      "----------------------------------------------\n",
      "NaN    7274882\n",
      "E        11724\n",
      "Name: school_bus_related, dtype: int64\n",
      "----------------------------------------------\n",
      "passenger car                          4690123\n",
      "pickup or panel truck                   996570\n",
      "NaN                                     886340\n",
      "truck or truck tractor with trailer     147828\n",
      "pedestrian                              100578\n",
      "truck or truck tractor                   95812\n",
      "motorcycle or scooter                    82124\n",
      "bicycle                                  82099\n",
      "other vehicle                            52085\n",
      "pickup or panel truck with trailer       49629\n",
      "emergency vehicle                        36989\n",
      "other bus                                28526\n",
      "schoolbus                                18408\n",
      "passenger car with trailer               16481\n",
      "highway construction equipment            2234\n",
      "moped                                      780\n",
      "Name: statewide_vehicle_type, dtype: int64\n",
      "----------------------------------------------\n",
      "FORD         1129701\n",
      "TOYOTA        965368\n",
      "CHEVROLET     756003\n",
      "HONDA         729498\n",
      "NaN           423380\n",
      "              ...   \n",
      "TOYTA              1\n",
      "CRICKETT           1\n",
      "RAM                1\n",
      "HOND               1\n",
      "MAZD               1\n",
      "Name: vehicle_make, Length: 218, dtype: int64\n",
      "----------------------------------------------\n",
      "NaN       639840\n",
      "2000.0    533228\n",
      "2001.0    502029\n",
      "1999.0    445511\n",
      "2002.0    411601\n",
      "           ...  \n",
      "2016.0         3\n",
      "1916.0         2\n",
      "2010.0         2\n",
      "2015.0         2\n",
      "2018.0         1\n",
      "Name: vehicle_year, Length: 115, dtype: int64\n"
     ]
    }
   ],
   "source": [
    "for col in parties.columns:\n",
    "    print('----------------------------------------------')\n",
    "    print(parties[col].value_counts(dropna=False))"
   ]
  },
  {
   "cell_type": "markdown",
   "metadata": {},
   "source": [
    "There are a few inconsistencies :\n",
    "\n",
    "    - cellphone_use : some entries use the chars B, C or D and others integers 1, 2 or 3. As the documentation says that this field should be chars, we can map the integers to chars. By looking at the distribution of values it seems that 1 -> B, 2-> C and 3 -> D.\n",
    "    - vehicle_make : There seems to be spelling mistakes for the make of the vehicle, for exemple TOYTA instead of TOYOTA."
   ]
  },
  {
   "cell_type": "code",
   "execution_count": null,
   "metadata": {},
   "outputs": [],
   "source": [
    "# cellphone_use\n",
    "dic = {\"1\": \"B\", \"2\": \"C\", \"3\": \"D\"}\n",
    "\n",
    "parties.loc[(parties.cellphone_use == \"1\") | (parties.cellphone_use == \"2\") \n",
    "            | (parties.cellphone_use == \"3\"), \"cellphone_use\"] = parties.loc[(parties.cellphone_use == \"1\") \n",
    "            | (parties.cellphone_use == \"2\")\n",
    "            | (parties.cellphone_use == \"3\"), \"cellphone_use\"].apply(lambda x: dic[x])"
   ]
  },
  {
   "cell_type": "code",
   "execution_count": null,
   "metadata": {},
   "outputs": [],
   "source": [
    "# vehicle_make\n",
    "np.sort(parties.vehicle_make.dropna().unique())"
   ]
  },
  {
   "cell_type": "code",
   "execution_count": null,
   "metadata": {},
   "outputs": [],
   "source": [
    "typos = {'MAZD' : 'MAZDA', 'MERCEDES-BENZ': 'MERCEDES BENZ', 'NISS': 'NISSAN', 'NOT STATED': np.nan,\n",
    "         'TOYTA': 'TOYOTA', 'WHITE': np.nan, 'WHITE GMC': 'GMC', 'WHITE VOLVO': 'VOLVO'}\n",
    "\n",
    "parties.vehicle_make = parties.vehicle_make.apply(lambda x: typos[x] if x in typos.keys() else x)"
   ]
  },
  {
   "cell_type": "markdown",
   "metadata": {},
   "source": [
    "Change party sex, at_fault, school_bus_related and hazardous materials to one character strings"
   ]
  },
  {
   "cell_type": "code",
   "execution_count": null,
   "metadata": {},
   "outputs": [],
   "source": [
    "dic_sex_fault = {\"female\" : \"F\", \"male\": \"M\", 1: \"T\", 0: \"F\"}\n",
    "dic_hazardous_bus = {\"A\" : \"T\", \"E\" : \"T\"}\n",
    "parties.party_sex = parties.party_sex.apply(lambda x: dic_sex_fault[x] if x in dic_sex_fault.keys() else x)\n",
    "parties.at_fault = parties.at_fault.apply(lambda x: dic_sex_fault[x] if x in dic_sex_fault.keys() else x)\n",
    "parties.hazardous_materials = parties.hazardous_materials.apply(lambda x: dic_hazardous_bus[x] if x in dic_hazardous_bus.keys() else \"F\")\n",
    "parties.school_bus_related = parties.school_bus_related.apply(lambda x: dic_hazardous_bus[x] if x in dic_hazardous_bus.keys() else \"F\")\n",
    "for col in [\"party_sex\", \"at_fault\", \"hazardous_materials\", \"school_bus_related\"]:\n",
    "    print('----------------------------------------------')\n",
    "    print(parties[col].value_counts(dropna=False))"
   ]
  },
  {
   "cell_type": "markdown",
   "metadata": {},
   "source": [
    "## VICTIMS"
   ]
  },
  {
   "cell_type": "code",
   "execution_count": null,
   "metadata": {},
   "outputs": [],
   "source": [
    "victims.head(10)"
   ]
  },
  {
   "cell_type": "code",
   "execution_count": null,
   "metadata": {},
   "outputs": [],
   "source": [
    "victims.info()"
   ]
  },
  {
   "cell_type": "code",
   "execution_count": null,
   "metadata": {},
   "outputs": [],
   "source": [
    "set(victims.victim_safety_equipment_1.apply(type))"
   ]
  },
  {
   "cell_type": "markdown",
   "metadata": {},
   "source": [
    "Degree of injury is of type object but contains only fields of type string, same for other columns of type object."
   ]
  },
  {
   "cell_type": "markdown",
   "metadata": {},
   "source": [
    "### Check if column fields conform to the schema"
   ]
  },
  {
   "cell_type": "code",
   "execution_count": null,
   "metadata": {},
   "outputs": [
    {
     "name": "stdout",
     "output_type": "stream",
     "text": [
      "----------------------------------------------\n",
      "3150216    116\n",
      "0828420    112\n",
      "3698263     97\n",
      "2671741     96\n",
      "1407091     89\n",
      "          ... \n",
      "1883324      1\n",
      "3161149      1\n",
      "2778469      1\n",
      "3121687      1\n",
      "1196646      1\n",
      "Name: case_id, Length: 2053340, dtype: int64\n",
      "----------------------------------------------\n",
      "4094       1\n",
      "525398     1\n",
      "603248     1\n",
      "640110     1\n",
      "644204     1\n",
      "          ..\n",
      "1394693    1\n",
      "1406979    1\n",
      "1402881    1\n",
      "2797566    1\n",
      "4098       1\n",
      "Name: id, Length: 4082685, dtype: int64\n",
      "----------------------------------------------\n",
      "1     1916883\n",
      "2     1870134\n",
      "3      239077\n",
      "4       43874\n",
      "5        8961\n",
      "       ...   \n",
      "62          1\n",
      "54          1\n",
      "60          1\n",
      "32          1\n",
      "46          1\n",
      "Name: party_number, Length: 86, dtype: int64\n",
      "----------------------------------------------\n",
      "18.0     146098\n",
      "NaN      142022\n",
      "19.0     135319\n",
      "17.0     129664\n",
      "20.0     122082\n",
      "          ...  \n",
      "112.0         4\n",
      "109.0         3\n",
      "108.0         3\n",
      "114.0         2\n",
      "124.0         1\n",
      "Name: victim_age, Length: 128, dtype: int64\n",
      "----------------------------------------------\n",
      "no injury               2002331\n",
      "complaint of pain       1390633\n",
      "other visible injury     569185\n",
      "severe injury             91925\n",
      "killed                    28607\n",
      "7                             4\n",
      "Name: victim_degree_of_injury, dtype: int64\n",
      "----------------------------------------------\n",
      "0.0    3619541\n",
      "3.0     328555\n",
      "1.0      98869\n",
      "NaN      23266\n",
      "2.0      12450\n",
      "4.0          4\n",
      "Name: victim_ejected, dtype: int64\n",
      "----------------------------------------------\n",
      "2    2336957\n",
      "1    1266063\n",
      "6     299496\n",
      "3     101951\n",
      "4      75111\n",
      "5       3107\n",
      "Name: victim_role, dtype: int64\n",
      "----------------------------------------------\n",
      "G      1604459\n",
      "M       852496\n",
      "P       502238\n",
      "L       333893\n",
      "NaN     223521\n",
      "Q       131274\n",
      "B        88341\n",
      "C        80584\n",
      "A        52112\n",
      "H        45154\n",
      "N        43321\n",
      "W        41968\n",
      "V        28304\n",
      "E        12132\n",
      "D        11974\n",
      "Y         8160\n",
      "F         6602\n",
      "U         6303\n",
      "J         3747\n",
      "T         1677\n",
      "S         1202\n",
      "K         1168\n",
      "R         1062\n",
      "X          993\n",
      "Name: victim_safety_equipment_1, dtype: int64\n",
      "----------------------------------------------\n",
      "NaN    2421400\n",
      "G      1317747\n",
      "Q       105066\n",
      "C        39578\n",
      "W        36237\n",
      "H        31786\n",
      "B        27180\n",
      "A        18345\n",
      "L        17898\n",
      "V        13949\n",
      "M        12760\n",
      "P        11308\n",
      "D         5669\n",
      "E         5526\n",
      "U         4154\n",
      "F         4035\n",
      "Y         2721\n",
      "J         1963\n",
      "T         1382\n",
      "N         1299\n",
      "S          799\n",
      "R          755\n",
      "K          591\n",
      "X          537\n",
      "Name: victim_safety_equipment_2, dtype: int64\n",
      "----------------------------------------------\n",
      "3.0    1332081\n",
      "1.0    1326095\n",
      "6.0     451234\n",
      "4.0     364753\n",
      "9.0     204837\n",
      "5.0     163115\n",
      "0.0      72234\n",
      "2.0      70471\n",
      "7.0      51631\n",
      "8.0      41278\n",
      "NaN       4956\n",
      "Name: victim_seating_position, dtype: int64\n",
      "----------------------------------------------\n",
      "female    1991773\n",
      "male      1985556\n",
      "NaN        105356\n",
      "Name: victim_sex, dtype: int64\n"
     ]
    }
   ],
   "source": [
    "for col in victims.columns:\n",
    "    print('----------------------------------------------')\n",
    "    print(victims[col].value_counts(dropna=False))"
   ]
  },
  {
   "cell_type": "markdown",
   "metadata": {},
   "source": [
    "There are a few inconsistencies :\n",
    "    \n",
    "    - victim_degree_of_injury has four entries with value 7 instead of the string \"possible injury\"\n",
    "    - victim_ejected has four entries with value 4\n",
    " \n",
    "For victim_degree_of_injury we can substitute 7 for the corresponding string value.\n",
    "For victim_ejected we can put a Nan value instead of the 4."
   ]
  },
  {
   "cell_type": "code",
   "execution_count": null,
   "metadata": {},
   "outputs": [],
   "source": [
    "victims.loc[victims.victim_degree_of_injury == '7', \"victim_degree_of_injury\"] = \"possible injury\""
   ]
  },
  {
   "cell_type": "code",
   "execution_count": null,
   "metadata": {},
   "outputs": [],
   "source": [
    "victims.loc[victims.victim_ejected == 4, \"victim_ejected\"] = np.nan"
   ]
  },
  {
   "cell_type": "markdown",
   "metadata": {},
   "source": [
    "Change victim_sex to one character string M / F"
   ]
  },
  {
   "cell_type": "code",
   "execution_count": null,
   "metadata": {},
   "outputs": [],
   "source": [
    "dic = {\"female\" : \"F\", \"male\": \"M\"}\n",
    "victims.victim_sex = victims.victim_sex.apply(lambda x: dic[x] if x in dic.keys() else x)\n",
    "victims.victim_sex.value_counts(dropna=False)"
   ]
  },
  {
   "cell_type": "markdown",
   "metadata": {},
   "source": [
    "## COLLISIONS"
   ]
  },
  {
   "cell_type": "code",
   "execution_count": null,
   "metadata": {},
   "outputs": [],
   "source": [
    "collisions.head(10)"
   ]
  },
  {
   "cell_type": "code",
   "execution_count": null,
   "metadata": {},
   "outputs": [],
   "source": [
    "collisions.info()"
   ]
  },
  {
   "cell_type": "code",
   "execution_count": null,
   "metadata": {},
   "outputs": [],
   "source": [
    "set(collisions.officer_id.apply(type))"
   ]
  },
  {
   "cell_type": "code",
   "execution_count": null,
   "metadata": {},
   "outputs": [],
   "source": [
    "collisions[collisions.officer_id.apply(lambda x: isinstance(x, str))].officer_id.head()"
   ]
  },
  {
   "cell_type": "markdown",
   "metadata": {},
   "source": [
    "All the fields of type object are either of type str or str and float. When they are of type str and float, the float values correspond to a NaN. The type object comes from the fact that when we import the data we set low_memory to false."
   ]
  },
  {
   "cell_type": "markdown",
   "metadata": {},
   "source": [
    "### Check if column fields conform to the schema"
   ]
  },
  {
   "cell_type": "code",
   "execution_count": null,
   "metadata": {},
   "outputs": [
    {
     "name": "stdout",
     "output_type": "stream",
     "text": [
      "----------------------------------------------\n",
      "1733705                1\n",
      "1287912                1\n",
      "2104023                1\n",
      "1613894                1\n",
      "2392391                1\n",
      "                      ..\n",
      "2708011229153889561    1\n",
      "2653888                1\n",
      "2382673                1\n",
      "2590565                1\n",
      "0217563                1\n",
      "Name: case_id, Length: 3678063, dtype: int64\n",
      "----------------------------------------------\n",
      "2002-11-08    2918\n",
      "2003-10-31    2479\n",
      "2005-02-11    2340\n",
      "2002-12-20    2319\n",
      "2001-12-14    2264\n",
      "              ... \n",
      "2018-07-20       1\n",
      "2018-05-16       1\n",
      "2017-10-21       1\n",
      "2018-01-05       1\n",
      "2018-02-08       1\n",
      "Name: collision_date, Length: 2583, dtype: int64\n",
      "----------------------------------------------\n",
      "property damage only    2272352\n",
      "pain                     846108\n",
      "other injury             457931\n",
      "severe injury             76085\n",
      "fatal                     25587\n",
      "Name: collision_severity, dtype: int64\n",
      "----------------------------------------------\n",
      "NaN         29645\n",
      "16:00:00    27292\n",
      "15:00:00    26979\n",
      "17:30:00    26538\n",
      "17:00:00    25878\n",
      "            ...  \n",
      "04:41:00      188\n",
      "04:19:00      187\n",
      "04:46:00      186\n",
      "04:24:00      182\n",
      "04:21:00      181\n",
      "Name: collision_time, Length: 1441, dtype: int64\n",
      "----------------------------------------------\n",
      "1942    399582\n",
      "1900    118446\n",
      "3400     80191\n",
      "3711     76867\n",
      "109      72995\n",
      "         ...  \n",
      "1204         5\n",
      "1504         4\n",
      "1307         3\n",
      "4710         1\n",
      "1303         1\n",
      "Name: county_city_location, Length: 540, dtype: int64\n",
      "----------------------------------------------\n",
      "not hit and run    2974324\n",
      "misdemeanor         597736\n",
      "felony              106002\n",
      "D                        1\n",
      "Name: hit_and_run, dtype: int64\n",
      "----------------------------------------------\n",
      "1942.0    277819\n",
      "1900.0    150788\n",
      "9550.0     65236\n",
      "9675.0     57933\n",
      "9590.0     56417\n",
      "           ...  \n",
      "1204.0         5\n",
      "1202.0         4\n",
      "1307.0         3\n",
      "1509.0         1\n",
      "4710.0         1\n",
      "Name: jurisdiction, Length: 474, dtype: int64\n",
      "----------------------------------------------\n",
      "daylight                                   2496939\n",
      "dark with street lights                     737171\n",
      "dark with no street lights                  287761\n",
      "dusk or dawn                                126170\n",
      "NaN                                          25780\n",
      "dark with street lights not functioning       4242\n",
      "Name: lighting, dtype: int64\n",
      "----------------------------------------------\n",
      "NaN             2350267\n",
      "highway         1059404\n",
      "ramp             183117\n",
      "intersection      85275\n",
      "Name: location_type, dtype: int64\n",
      "----------------------------------------------\n",
      "NaN       9212\n",
      "99999     3367\n",
      "24        2798\n",
      "127       2661\n",
      "205       2260\n",
      "          ... \n",
      "108/1        1\n",
      "61539        1\n",
      "6748         1\n",
      "BT0425       1\n",
      "93962        1\n",
      "Name: officer_id, Length: 59762, dtype: int64\n",
      "----------------------------------------------\n",
      "22350.0    1101226\n",
      "22107.0     526629\n",
      "NaN         270590\n",
      "23152.0     242164\n",
      "21658.0     239446\n",
      "            ...   \n",
      "25265.0          1\n",
      "28103.0          1\n",
      "22951.0          1\n",
      "22520.0          1\n",
      "27452.0          1\n",
      "Name: pcf_violation, Length: 311, dtype: int64\n",
      "----------------------------------------------\n",
      "speeding                             1102089\n",
      "improper turning                      575547\n",
      "automobile right of way               484786\n",
      "dui                                   250975\n",
      "unsafe lane change                    239140\n",
      "traffic signals and signs             208508\n",
      "unsafe starting or backing            148127\n",
      "unknown                               128544\n",
      "wrong side of road                     96437\n",
      "following too closely                  91961\n",
      "NaN                                    77958\n",
      "other than driver (or pedestrian)      77063\n",
      "other hazardous violation              42686\n",
      "pedestrian violation                   36701\n",
      "improper passing                       36593\n",
      "pedestrian right of way                29721\n",
      "other improper driving                 27066\n",
      "fell asleep                             8808\n",
      "other equipment                         5374\n",
      "hazardous parking                       5123\n",
      "impeding traffic                        2241\n",
      "brakes                                  1548\n",
      "lights                                   604\n",
      "pedestrian dui                           462\n",
      "21804                                      1\n",
      "Name: pcf_violation_category, dtype: int64\n",
      "----------------------------------------------\n",
      "NaN    2348545\n",
      "A      1243270\n",
      "B        46249\n",
      "1        13762\n",
      "C        11777\n",
      "D         9562\n",
      "5         3837\n",
      "F          478\n",
      "E          126\n",
      "2          125\n",
      "G           99\n",
      "8           95\n",
      "3           87\n",
      "H           37\n",
      "0           10\n",
      "I            2\n",
      "N            1\n",
      "K            1\n",
      "Name: pcf_violation_subsection, dtype: int64\n",
      "----------------------------------------------\n",
      "7.0    899012\n",
      "9.0    841898\n",
      "6.0    691694\n",
      "5.0    685439\n",
      "4.0    331798\n",
      "3.0    154488\n",
      "2.0     55184\n",
      "1.0     17470\n",
      "NaN      1080\n",
      "Name: population, dtype: int64\n",
      "----------------------------------------------\n",
      "vehicle code violation    3418151\n",
      "unknown                    115493\n",
      "other than driver           77063\n",
      "NaN                         31482\n",
      "other improper driving      27066\n",
      "fell asleep                  8808\n",
      "Name: primary_collision_factor, dtype: int64\n",
      "----------------------------------------------\n",
      "2001-05-11    19882\n",
      "2002-02-15    14383\n",
      "2002-03-08    14073\n",
      "2002-02-21    13716\n",
      "2001-09-28    13712\n",
      "              ...  \n",
      "2018-02-28        1\n",
      "2017-01-25        1\n",
      "2018-09-24        1\n",
      "2018-09-21        1\n",
      "2018-04-26        1\n",
      "Name: process_date, Length: 1951, dtype: int64\n",
      "----------------------------------------------\n",
      "NaN    2927568\n",
      "8.0     333975\n",
      "7.0     148031\n",
      "5.0      63923\n",
      "4.0      61124\n",
      "2.0      56988\n",
      "1.0      53884\n",
      "6.0      21378\n",
      "3.0      11192\n",
      "Name: ramp_intersection, dtype: int64\n",
      "----------------------------------------------\n",
      "normal            3528773\n",
      "construction        54225\n",
      "NaN                 37755\n",
      "obstruction         15519\n",
      "other               15413\n",
      "holes                9897\n",
      "loose material       8674\n",
      "reduced width        4411\n",
      "flooded              3396\n",
      "Name: road_condition_1, dtype: int64\n",
      "----------------------------------------------\n",
      "NaN               3666220\n",
      "normal               5203\n",
      "reduced width        3466\n",
      "construction         1681\n",
      "other                 760\n",
      "loose material        303\n",
      "obstruction           183\n",
      "flooded               154\n",
      "holes                  93\n",
      "Name: road_condition_2, dtype: int64\n",
      "----------------------------------------------\n",
      "dry         3286745\n",
      "wet          327578\n",
      "NaN           37870\n",
      "snowy         19841\n",
      "slippery       6028\n",
      "H                 1\n",
      "Name: road_surface, dtype: int64\n",
      "----------------------------------------------\n",
      "1.0    1911042\n",
      "0.0    1752742\n",
      "NaN      14279\n",
      "Name: tow_away, dtype: int64\n",
      "----------------------------------------------\n",
      "rear end      1209688\n",
      "broadside      794790\n",
      "sideswipe      610777\n",
      "hit object     585749\n",
      "head-on        158488\n",
      "other          102524\n",
      "overturned     100556\n",
      "pedestrian      89086\n",
      "NaN             26405\n",
      "Name: type_of_collision, dtype: int64\n",
      "----------------------------------------------\n",
      "clear      2941042\n",
      "cloudy      542095\n",
      "raining     141504\n",
      "NaN          23018\n",
      "fog          18577\n",
      "snowing       5916\n",
      "other         4336\n",
      "wind          1575\n",
      "Name: weather_1, dtype: int64\n",
      "----------------------------------------------\n",
      "NaN        3569363\n",
      "raining      82248\n",
      "wind         12377\n",
      "cloudy        6155\n",
      "fog           2682\n",
      "other         2624\n",
      "snowing       2614\n",
      "Name: weather_2, dtype: int64\n"
     ]
    }
   ],
   "source": [
    "for col in collisions.columns:\n",
    "    print('----------------------------------------------')\n",
    "    print(collisions[col].value_counts(dropna=False))"
   ]
  },
  {
   "cell_type": "markdown",
   "metadata": {},
   "source": [
    "**SECOND MILESTONE :**\n",
    "There are 3 case_id that are not unique : 97293, 373108 and 965874. We need to check if they are just duplicated rows."
   ]
  },
  {
   "cell_type": "markdown",
   "metadata": {},
   "source": [
    "**FINAL MILESTONE :** The previous case_id were not duplicated but due to the fact that we imported case_id as int instead of as a string."
   ]
  },
  {
   "cell_type": "code",
   "execution_count": null,
   "metadata": {},
   "outputs": [],
   "source": [
    "# Look at previously duplicated case_id (here 97293)\n",
    "collisions.loc[collisions[\"case_id\"].str.contains('97293')].head(10)"
   ]
  },
  {
   "cell_type": "code",
   "execution_count": null,
   "metadata": {},
   "outputs": [],
   "source": [
    "'''\n",
    "duplicated_id = collisions.loc[collisions.case_id.isin(['97293', '373108', '965874'])]\n",
    "duplicated_id\n",
    "\n",
    "#Since they do not refer to the same case they seem to be a mistake. We will delete those 6 cases from the data to avoid any issues. We need to be carreful to remove also the associated data in the dataframes parties and victims.\n",
    "\n",
    "duplicated_case_id = ['97293', '373108', '965874']\n",
    "\n",
    "collisions.drop(collisions[collisions.case_id.isin(duplicated_case_id)].index, inplace=True)\n",
    "parties.drop(parties[parties.case_id.isin(duplicated_case_id)].index, inplace=True)\n",
    "victims.drop(victims[victims.case_id.isin(duplicated_case_id)].index, inplace=True)\n",
    "'''"
   ]
  },
  {
   "cell_type": "code",
   "execution_count": null,
   "metadata": {},
   "outputs": [],
   "source": [
    "collisions.case_id.is_unique"
   ]
  },
  {
   "cell_type": "code",
   "execution_count": null,
   "metadata": {},
   "outputs": [],
   "source": [
    "# Check max length of case_id\n",
    "collisions.case_id.map(len).max()"
   ]
  },
  {
   "cell_type": "markdown",
   "metadata": {},
   "source": [
    "There are other inconsistencies : \n",
    "\n",
    "    - for hit_and_run: there is a field with value D\n",
    "    - for officer_id: there are ids that are not only numbers\n",
    "    - for pcf_violation_category: there is a field with value 21804\n",
    "    - for pcf_violation_subsection: there are integer and string values\n",
    "    - for road_surface: there is a field with value H\n",
    " \n",
    "For hit_and_run, pcf_violation_category and road_surface, we can set the value of the field to NaN.\n",
    "For officer_id, we can convert the field to strings.\n",
    "For pcf_violation_subsection, we will either have to map the integer values to a string or vice versa, or convert all the values to strings"
   ]
  },
  {
   "cell_type": "code",
   "execution_count": null,
   "metadata": {},
   "outputs": [],
   "source": [
    "# hit_and_run\n",
    "collisions.loc[collisions.hit_and_run == 'D', \"hit_and_run\"] = np.nan\n",
    "\n",
    "# pcf_violation_category\n",
    "collisions.loc[collisions.pcf_violation_category == '21804', \"pcf_violation_category\"] = np.nan\n",
    "\n",
    "# road_surface\n",
    "collisions.loc[collisions.road_surface == 'H', \"road_surface\"] = np.nan\n",
    "\n",
    "# pcf_violation_subsection\n",
    "collisions = collisions.astype({'pcf_violation_subsection': str})"
   ]
  },
  {
   "cell_type": "code",
   "execution_count": null,
   "metadata": {},
   "outputs": [],
   "source": [
    "collisions = collisions.astype({\"officer_id\": str})"
   ]
  },
  {
   "cell_type": "markdown",
   "metadata": {},
   "source": [
    "Remove case_ids in collisions but not in parties :"
   ]
  },
  {
   "cell_type": "code",
   "execution_count": null,
   "metadata": {},
   "outputs": [],
   "source": [
    "todrop = collisions.case_id.isin(parties.case_id)\n",
    "collisions.drop(collisions.loc[~todrop].index, inplace=True)"
   ]
  },
  {
   "cell_type": "markdown",
   "metadata": {},
   "source": [
    "Change tow_away to a 1 character string T/F"
   ]
  },
  {
   "cell_type": "code",
   "execution_count": null,
   "metadata": {},
   "outputs": [],
   "source": [
    "dic = {1.0 : \"T\", 0.0: \"F\"}\n",
    "    \n",
    "collisions.tow_away = collisions.tow_away.apply(lambda x: dic[x] if x in dic.keys() else x)\n",
    "collisions.tow_away.value_counts(dropna=False)"
   ]
  },
  {
   "cell_type": "markdown",
   "metadata": {},
   "source": [
    "# Map short codes to long strings\n",
    "\n",
    "Some fields have values encoded as integers or letters (A, B, C, ...). We map everything to characters"
   ]
  },
  {
   "cell_type": "markdown",
   "metadata": {},
   "source": [
    "## Collisions"
   ]
  },
  {
   "cell_type": "code",
   "execution_count": null,
   "metadata": {},
   "outputs": [],
   "source": [
    "dic_ramp_intersection = {\n",
    "    1: 'Ramp Exit, Last 50 Feet',\n",
    "    2: 'Mid-Ramp',\n",
    "    3: 'Ramp Entry, First 50 Feet',\n",
    "    4: 'Not State Highway, Ramp-related, Within 100 Feet',\n",
    "    5: 'Intersection',\n",
    "    6: 'Not State Highway, Intersection-related, Within 250 Feet',\n",
    "    7: 'Highway',\n",
    "    8: 'Not State Highway'\n",
    "}\n",
    "\n",
    "collisions.ramp_intersection.replace(dic_ramp_intersection, inplace=True)"
   ]
  },
  {
   "cell_type": "code",
   "execution_count": 34,
   "metadata": {},
   "outputs": [
    {
     "data": {
      "text/plain": [
       "Not State Highway                                           333975\n",
       "Highway                                                     148031\n",
       "Intersection                                                 63923\n",
       "Not State Highway, Ramp-related, Within 100 Feet             61124\n",
       "Mid-Ramp                                                     56988\n",
       "Ramp Exit, Last 50 Feet                                      53884\n",
       "Not State Highway, Intersection-related, Within 250 Feet     21378\n",
       "Ramp Entry, First 50 Feet                                    11192\n",
       "Name: ramp_intersection, dtype: int64"
      ]
     },
     "execution_count": 34,
     "metadata": {},
     "output_type": "execute_result"
    }
   ],
   "source": [
    "collisions.ramp_intersection.value_counts()"
   ]
  },
  {
   "cell_type": "markdown",
   "metadata": {},
   "source": [
    "## Victims"
   ]
  },
  {
   "cell_type": "code",
   "execution_count": 35,
   "metadata": {},
   "outputs": [
    {
     "data": {
      "text/plain": [
       "Not Ejected          3619541\n",
       "NaN                   351825\n",
       "Fully Ejected          98869\n",
       "Partially Ejected      12450\n",
       "Name: victim_ejected, dtype: int64"
      ]
     },
     "execution_count": 35,
     "metadata": {},
     "output_type": "execute_result"
    }
   ],
   "source": [
    "dic_victim_ejected = {\n",
    "    0: 'Not Ejected',\n",
    "    1: 'Fully Ejected',\n",
    "    2: 'Partially Ejected',\n",
    "    3: np.nan,\n",
    "}\n",
    "\n",
    "victims.victim_ejected.replace(dic_victim_ejected, inplace=True)\n",
    "victims.victim_ejected.value_counts(dropna=False)"
   ]
  },
  {
   "cell_type": "code",
   "execution_count": 36,
   "metadata": {},
   "outputs": [
    {
     "data": {
      "text/plain": [
       "Passenger            2336957\n",
       "Driver               1266063\n",
       "Non-Injured Party     299496\n",
       "Pedestrian            101951\n",
       "Bicyclist              75111\n",
       "Other                   3107\n",
       "Name: victim_role, dtype: int64"
      ]
     },
     "execution_count": 36,
     "metadata": {},
     "output_type": "execute_result"
    }
   ],
   "source": [
    "dic_victim_role = {\n",
    "    1: 'Driver',\n",
    "    2: 'Passenger',\n",
    "    3: 'Pedestrian',\n",
    "    4: 'Bicyclist',\n",
    "    5: 'Other',\n",
    "    6: 'Non-Injured Party'\n",
    "}\n",
    "\n",
    "victims.victim_role.replace(dic_victim_role, inplace=True)\n",
    "victims.victim_role.value_counts(dropna=False)"
   ]
  },
  {
   "cell_type": "code",
   "execution_count": 37,
   "metadata": {},
   "outputs": [
    {
     "data": {
      "text/plain": [
       "Lap/Shoulder Harness Used                   1604459\n",
       "Air Bag Not Deployed                         852496\n",
       "Not Required                                 502238\n",
       "Air Bag Deployed                             333893\n",
       "NaN                                          311862\n",
       "Child Restraint in Vehicle Used              131274\n",
       "Lap Belt Used                                 80584\n",
       "None in Vehicle                               52112\n",
       "Lap/Shoulder Harness Not Used                 45154\n",
       "Other                                         43321\n",
       "Driver, Motorcycle Helmet Used                41968\n",
       "Driver, Motorcycle Helmet Not Used            28304\n",
       "Shoulder Harness Used                         12132\n",
       "Lap Belt Not Used                             11974\n",
       "Passenger, Motorcycle Helmet Used              8160\n",
       "Shoulder Harness Not Used                      6602\n",
       "No Child Restraint in Vehicle                  6303\n",
       "Passive Restraint Used                         3747\n",
       "Child Restraint in Vehicle, Improper Use       1677\n",
       "Child Restraint in Vehicle, Use Unknown        1202\n",
       "Passive Restraint Not Used                     1168\n",
       "Child Restraint in Vehicle Not Used            1062\n",
       "Passenger, Motorcycle Helmet Not Used           993\n",
       "Name: victim_safety_equipment_1, dtype: int64"
      ]
     },
     "execution_count": 37,
     "metadata": {},
     "output_type": "execute_result"
    }
   ],
   "source": [
    "dic_victim_safety = {\n",
    "    'A': 'None in Vehicle',\n",
    "    'B': np.nan,\n",
    "    'C': 'Lap Belt Used',\n",
    "    'D': 'Lap Belt Not Used',\n",
    "    'E': 'Shoulder Harness Used',\n",
    "    'F': 'Shoulder Harness Not Used',\n",
    "    'G': 'Lap/Shoulder Harness Used',\n",
    "    'H': 'Lap/Shoulder Harness Not Used',\n",
    "    'J': 'Passive Restraint Used',\n",
    "    'K': 'Passive Restraint Not Used',\n",
    "    'L': 'Air Bag Deployed',\n",
    "    'M': 'Air Bag Not Deployed',\n",
    "    'N': 'Other',\n",
    "    'P': 'Not Required',\n",
    "    'Q': 'Child Restraint in Vehicle Used',\n",
    "    'R': 'Child Restraint in Vehicle Not Used',\n",
    "    'S': 'Child Restraint in Vehicle, Use Unknown',\n",
    "    'T': 'Child Restraint in Vehicle, Improper Use',\n",
    "    'U': 'No Child Restraint in Vehicle',\n",
    "    'V': 'Driver, Motorcycle Helmet Not Used',\n",
    "    'W': 'Driver, Motorcycle Helmet Used',\n",
    "    'X': 'Passenger, Motorcycle Helmet Not Used',\n",
    "    'Y': 'Passenger, Motorcycle Helmet Used',\n",
    "}\n",
    "\n",
    "victims.victim_safety_equipment_1.replace(dic_victim_safety, inplace=True)\n",
    "victims.victim_safety_equipment_2.replace(dic_victim_safety, inplace=True)\n",
    "victims.victim_safety_equipment_1.value_counts(dropna=False)"
   ]
  },
  {
   "cell_type": "code",
   "execution_count": 38,
   "metadata": {},
   "outputs": [],
   "source": [
    "victims['victim_seating_position_code'] = victims.victim_seating_position.copy()"
   ]
  },
  {
   "cell_type": "code",
   "execution_count": 39,
   "metadata": {},
   "outputs": [
    {
     "data": {
      "text/plain": [
       "Passenger                        2381654\n",
       "Driver                           1326095\n",
       "NaN                               209793\n",
       "Other                              72234\n",
       "Station Wagon Rear                 51631\n",
       "Rear Occupant of Truck or Van      41278\n",
       "Name: victim_seating_position, dtype: int64"
      ]
     },
     "execution_count": 39,
     "metadata": {},
     "output_type": "execute_result"
    }
   ],
   "source": [
    "dic_victim_seating = {\n",
    "    1: 'Driver',\n",
    "    2: 'Passenger',\n",
    "    3: 'Passenger',\n",
    "    4: 'Passenger',\n",
    "    5: 'Passenger',\n",
    "    6: 'Passenger',\n",
    "    7: 'Station Wagon Rear',\n",
    "    8: 'Rear Occupant of Truck or Van',\n",
    "    9: np.nan,\n",
    "    0: 'Other',\n",
    "}\n",
    "\n",
    "victims.victim_seating_position.replace(dic_victim_seating, inplace=True)\n",
    "victims.victim_seating_position.value_counts(dropna=False)"
   ]
  },
  {
   "cell_type": "markdown",
   "metadata": {},
   "source": [
    "## Parties"
   ]
  },
  {
   "cell_type": "code",
   "execution_count": 40,
   "metadata": {},
   "outputs": [
    {
     "data": {
      "text/plain": [
       "N      5410008\n",
       "A       551353\n",
       "NaN     479546\n",
       "F       279826\n",
       "G       241815\n",
       "H        68380\n",
       "M        66173\n",
       "E        53022\n",
       "I        43092\n",
       "L        36958\n",
       "K        19303\n",
       "O        15983\n",
       "J        13707\n",
       "Y         4927\n",
       "P          820\n",
       "R          697\n",
       "U          310\n",
       "T          241\n",
       "X          162\n",
       "S          102\n",
       "Q           80\n",
       "V           74\n",
       "W           27\n",
       "Name: other_associate_factor_1, dtype: int64"
      ]
     },
     "execution_count": 40,
     "metadata": {},
     "output_type": "execute_result"
    }
   ],
   "source": [
    "parties.other_associate_factor_1.value_counts(dropna=False)"
   ]
  },
  {
   "cell_type": "code",
   "execution_count": 41,
   "metadata": {},
   "outputs": [
    {
     "data": {
      "text/plain": [
       "NaN                               5889554\n",
       "Violation                          551353\n",
       "Inattention                        279826\n",
       "Stop and Go Traffic                241815\n",
       "Entering/Leaving Ramp               68380\n",
       "Other                               66173\n",
       "Vision Obscurements                 53022\n",
       "Previous Collision                  43092\n",
       "Uninvolved Vehicle                  36958\n",
       "Defective Vehicle Equipment         19303\n",
       "Runaway Vehicle                     15983\n",
       "Unfamiliar With Road                13707\n",
       "Inattention, Other                   4927\n",
       "Inattention, Cell Phone               820\n",
       "Inattention, Radio/CD                 697\n",
       "Inattention, Children                 310\n",
       "Inattention, Eating                   241\n",
       "Inattention, Reading                  162\n",
       "Inattention, Smoking                  102\n",
       "Inattention, Electronic Equip.         80\n",
       "Inattention, Animal                    74\n",
       "Inattention, Personal Hygiene          27\n",
       "Name: other_associate_factor_1, dtype: int64"
      ]
     },
     "execution_count": 41,
     "metadata": {},
     "output_type": "execute_result"
    }
   ],
   "source": [
    "dic_assoc_factor = {\n",
    "    'A': 'Violation',\n",
    "    'E': 'Vision Obscurements',\n",
    "    'F': 'Inattention',\n",
    "    'G': 'Stop and Go Traffic',\n",
    "    'H': 'Entering/Leaving Ramp',\n",
    "    'I': 'Previous Collision',\n",
    "    'J': 'Unfamiliar With Road',\n",
    "    'K': 'Defective Vehicle Equipment',\n",
    "    'L': 'Uninvolved Vehicle',\n",
    "    'M': 'Other',\n",
    "    'N': np.nan,\n",
    "    'O': 'Runaway Vehicle',\n",
    "    'P': 'Inattention, Cell Phone',\n",
    "    'Q': 'Inattention, Electronic Equip.',\n",
    "    'R': 'Inattention, Radio/CD',\n",
    "    'S': 'Inattention, Smoking',\n",
    "    'T': 'Inattention, Eating',\n",
    "    'U': 'Inattention, Children',\n",
    "    'V': 'Inattention, Animal',\n",
    "    'W': 'Inattention, Personal Hygiene',\n",
    "    'X': 'Inattention, Reading',\n",
    "    'Y': 'Inattention, Other',\n",
    "}\n",
    "\n",
    "parties.other_associate_factor_1.replace(dic_assoc_factor, inplace=True)\n",
    "parties.other_associate_factor_2.replace(dic_assoc_factor, inplace=True)\n",
    "parties.other_associate_factor_1.value_counts(dropna=False)"
   ]
  },
  {
   "cell_type": "code",
   "execution_count": 47,
   "metadata": {},
   "outputs": [
    {
     "data": {
      "text/plain": [
       "Lap/Shoulder Harness Used                   2858794\n",
       "Air Bag Not Deployed                        1781891\n",
       "NaN                                         1577720\n",
       "Air Bag Deployed                             459608\n",
       "Not Required                                 318302\n",
       "Other                                         73696\n",
       "Lap Belt Used                                 47235\n",
       "None in Vehicle                               37160\n",
       "Driver, Motorcycle Helmet Used                36938\n",
       "Lap/Shoulder Harness Not Used                 32227\n",
       "Shoulder Harness Used                         20840\n",
       "Passenger, Motorcycle Helmet Used             15295\n",
       "Driver, Motorcycle Helmet Not Used             7947\n",
       "Lap Belt Not Used                              5788\n",
       "Shoulder Harness Not Used                      4876\n",
       "Passive Restraint Used                         3235\n",
       "No Child Restraint in Vehicle                  2370\n",
       "Passive Restraint Not Used                      746\n",
       "Child Restraint in Vehicle, Use Unknown         608\n",
       "Child Restraint in Vehicle Used                 548\n",
       "Child Restraint in Vehicle, Improper Use        433\n",
       "Passenger, Motorcycle Helmet Not Used           214\n",
       "Child Restraint in Vehicle Not Used             135\n",
       "Name: party_safety_equipment_1, dtype: int64"
      ]
     },
     "execution_count": 47,
     "metadata": {},
     "output_type": "execute_result"
    }
   ],
   "source": [
    "parties.party_safety_equipment_1.replace(dic_victim_safety, inplace=True)\n",
    "parties.party_safety_equipment_2.replace(dic_victim_safety, inplace=True)\n",
    "parties.party_safety_equipment_1.value_counts(dropna=False)"
   ]
  },
  {
   "cell_type": "markdown",
   "metadata": {},
   "source": [
    "# SAVE CLEANED DATA"
   ]
  },
  {
   "cell_type": "code",
   "execution_count": 48,
   "metadata": {},
   "outputs": [],
   "source": [
    "save_folder = \"data_cleaned/\"\n",
    "\n",
    "parties.to_csv(save_folder+\"parties_cleaned.csv\", index=False)\n",
    "collisions.to_csv(save_folder+\"collisions_cleaned.csv\", index=False)\n",
    "victims.to_csv(save_folder+\"victims_cleaned.csv\", index=False)"
   ]
  }
 ],
 "metadata": {
  "kernelspec": {
   "display_name": "Python [conda env:ada]",
   "language": "python",
   "name": "conda-root-py"
  },
  "language_info": {
   "codemirror_mode": {
    "name": "ipython",
    "version": 3
   },
   "file_extension": ".py",
   "mimetype": "text/x-python",
   "name": "python",
   "nbconvert_exporter": "python",
   "pygments_lexer": "ipython3",
   "version": "3.9.2"
  }
 },
 "nbformat": 4,
 "nbformat_minor": 4
}
